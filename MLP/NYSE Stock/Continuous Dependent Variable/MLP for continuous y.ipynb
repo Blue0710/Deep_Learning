{
 "cells": [
  {
   "cell_type": "markdown",
   "metadata": {},
   "source": [
    "# 1. Libraries and settings"
   ]
  },
  {
   "cell_type": "code",
   "execution_count": 1,
   "metadata": {
    "scrolled": true
   },
   "outputs": [
    {
     "name": "stderr",
     "output_type": "stream",
     "text": [
      "d:\\programfiles\\python37\\lib\\site-packages\\tensorflow\\python\\framework\\dtypes.py:526: FutureWarning: Passing (type, 1) or '1type' as a synonym of type is deprecated; in a future version of numpy, it will be understood as (type, (1,)) / '(1,)type'.\n",
      "  _np_qint8 = np.dtype([(\"qint8\", np.int8, 1)])\n",
      "d:\\programfiles\\python37\\lib\\site-packages\\tensorflow\\python\\framework\\dtypes.py:527: FutureWarning: Passing (type, 1) or '1type' as a synonym of type is deprecated; in a future version of numpy, it will be understood as (type, (1,)) / '(1,)type'.\n",
      "  _np_quint8 = np.dtype([(\"quint8\", np.uint8, 1)])\n",
      "d:\\programfiles\\python37\\lib\\site-packages\\tensorflow\\python\\framework\\dtypes.py:528: FutureWarning: Passing (type, 1) or '1type' as a synonym of type is deprecated; in a future version of numpy, it will be understood as (type, (1,)) / '(1,)type'.\n",
      "  _np_qint16 = np.dtype([(\"qint16\", np.int16, 1)])\n",
      "d:\\programfiles\\python37\\lib\\site-packages\\tensorflow\\python\\framework\\dtypes.py:529: FutureWarning: Passing (type, 1) or '1type' as a synonym of type is deprecated; in a future version of numpy, it will be understood as (type, (1,)) / '(1,)type'.\n",
      "  _np_quint16 = np.dtype([(\"quint16\", np.uint16, 1)])\n",
      "d:\\programfiles\\python37\\lib\\site-packages\\tensorflow\\python\\framework\\dtypes.py:530: FutureWarning: Passing (type, 1) or '1type' as a synonym of type is deprecated; in a future version of numpy, it will be understood as (type, (1,)) / '(1,)type'.\n",
      "  _np_qint32 = np.dtype([(\"qint32\", np.int32, 1)])\n",
      "d:\\programfiles\\python37\\lib\\site-packages\\tensorflow\\python\\framework\\dtypes.py:535: FutureWarning: Passing (type, 1) or '1type' as a synonym of type is deprecated; in a future version of numpy, it will be understood as (type, (1,)) / '(1,)type'.\n",
      "  np_resource = np.dtype([(\"resource\", np.ubyte, 1)])\n",
      "Using TensorFlow backend.\n"
     ]
    },
    {
     "name": "stdout",
     "output_type": "stream",
     "text": [
      "D:\\Value of Dream\\108-1 深度學習\\Deep Learning Tool\\MLP\\NYSE Stock: ['Categorical Dependent Variable', 'Continuous Dependent Variable']\n",
      "D:\\Value of Dream\\108-1 深度學習\\Deep Learning Tool\\MLP\\NYSE Stock\\Continuous Dependent Variable: ['.ipynb_checkpoints', 'MLP for continuous y.ipynb', 'MLP for continuous y.pdf', 'Untitled.ipynb']\n"
     ]
    }
   ],
   "source": [
    "import pandas as pd\n",
    "import numpy as np\n",
    "import math\n",
    "import sklearn\n",
    "import sklearn.preprocessing\n",
    "import datetime\n",
    "import os\n",
    "import matplotlib.pyplot as plt\n",
    "import tensorflow as tf\n",
    "import matplotlib.pyplot as plt\n",
    "import keras\n",
    "from keras.models import Sequential\n",
    "from keras.layers import Dense, Dropout, Flatten, Reshape, GlobalAveragePooling1D\n",
    "from keras.layers import Conv2D, MaxPooling2D, Conv1D, MaxPooling1D\n",
    "from keras.utils import np_utils\n",
    "#display parent directory and working directory\n",
    "print(os.path.dirname(os.getcwd())+':', os.listdir(os.path.dirname(os.getcwd())));\n",
    "print(os.getcwd()+':', os.listdir(os.getcwd()));"
   ]
  },
  {
   "cell_type": "markdown",
   "metadata": {},
   "source": [
    "# 2. Analyze data"
   ]
  },
  {
   "cell_type": "code",
   "execution_count": 3,
   "metadata": {},
   "outputs": [
    {
     "name": "stdout",
     "output_type": "stream",
     "text": [
      "<class 'pandas.core.frame.DataFrame'>\n",
      "Index: 851264 entries, 2016-01-05 to 2016-12-30\n",
      "Data columns (total 6 columns):\n",
      "symbol    851264 non-null object\n",
      "open      851264 non-null float64\n",
      "close     851264 non-null float64\n",
      "low       851264 non-null float64\n",
      "high      851264 non-null float64\n",
      "volume    851264 non-null float64\n",
      "dtypes: float64(5), object(1)\n",
      "memory usage: 45.5+ MB\n",
      "None\n",
      "           symbol        open       close         low        high     volume\n",
      "date                                                                        \n",
      "2016-01-05   WLTW  123.430000  125.839996  122.309998  126.250000  2163600.0\n",
      "2016-01-06   WLTW  125.239998  119.980003  119.940002  125.540001  2386400.0\n",
      "2016-01-07   WLTW  116.379997  114.949997  114.930000  119.739998  2489500.0\n",
      "2016-01-08   WLTW  115.480003  116.620003  113.500000  117.440002  2006300.0\n",
      "2016-01-11   WLTW  117.010002  114.970001  114.089996  117.330002  1408600.0\n",
      "(851264, 6)\n",
      "\n",
      "number of different stocks:  501\n",
      "['IVZ', 'O', 'TRV', 'GE', 'STT', 'URBN', 'C', 'CCI', 'USB', 'COTY']\n"
     ]
    }
   ],
   "source": [
    "df = pd.read_csv(\"D:/Value of Dream/108-1 深度學習/Deep Learning Tool/Data/prices-split-adjusted.csv\", index_col = 0)\n",
    "print(df.info())\n",
    "print(df.head())\n",
    "print(df.values.shape)\n",
    "# number of different stocks\n",
    "print('\\nnumber of different stocks: ', len(list(set(df.symbol))))\n",
    "print(list(set(df.symbol))[:10])"
   ]
  },
  {
   "cell_type": "code",
   "execution_count": 4,
   "metadata": {},
   "outputs": [
    {
     "data": {
      "text/html": [
       "<div>\n",
       "<style scoped>\n",
       "    .dataframe tbody tr th:only-of-type {\n",
       "        vertical-align: middle;\n",
       "    }\n",
       "\n",
       "    .dataframe tbody tr th {\n",
       "        vertical-align: top;\n",
       "    }\n",
       "\n",
       "    .dataframe thead th {\n",
       "        text-align: right;\n",
       "    }\n",
       "</style>\n",
       "<table border=\"1\" class=\"dataframe\">\n",
       "  <thead>\n",
       "    <tr style=\"text-align: right;\">\n",
       "      <th></th>\n",
       "      <th>symbol</th>\n",
       "      <th>open</th>\n",
       "      <th>close</th>\n",
       "      <th>low</th>\n",
       "      <th>high</th>\n",
       "      <th>volume</th>\n",
       "    </tr>\n",
       "    <tr>\n",
       "      <th>date</th>\n",
       "      <th></th>\n",
       "      <th></th>\n",
       "      <th></th>\n",
       "      <th></th>\n",
       "      <th></th>\n",
       "      <th></th>\n",
       "    </tr>\n",
       "  </thead>\n",
       "  <tbody>\n",
       "    <tr>\n",
       "      <th>2016-12-30</th>\n",
       "      <td>ZBH</td>\n",
       "      <td>103.309998</td>\n",
       "      <td>103.199997</td>\n",
       "      <td>102.849998</td>\n",
       "      <td>103.930000</td>\n",
       "      <td>973800.0</td>\n",
       "    </tr>\n",
       "    <tr>\n",
       "      <th>2016-12-30</th>\n",
       "      <td>ZION</td>\n",
       "      <td>43.070000</td>\n",
       "      <td>43.040001</td>\n",
       "      <td>42.689999</td>\n",
       "      <td>43.310001</td>\n",
       "      <td>1938100.0</td>\n",
       "    </tr>\n",
       "    <tr>\n",
       "      <th>2016-12-30</th>\n",
       "      <td>ZTS</td>\n",
       "      <td>53.639999</td>\n",
       "      <td>53.529999</td>\n",
       "      <td>53.270000</td>\n",
       "      <td>53.740002</td>\n",
       "      <td>1701200.0</td>\n",
       "    </tr>\n",
       "    <tr>\n",
       "      <th>2016-12-30</th>\n",
       "      <td>AIV</td>\n",
       "      <td>44.730000</td>\n",
       "      <td>45.450001</td>\n",
       "      <td>44.410000</td>\n",
       "      <td>45.590000</td>\n",
       "      <td>1380900.0</td>\n",
       "    </tr>\n",
       "    <tr>\n",
       "      <th>2016-12-30</th>\n",
       "      <td>FTV</td>\n",
       "      <td>54.200001</td>\n",
       "      <td>53.630001</td>\n",
       "      <td>53.389999</td>\n",
       "      <td>54.480000</td>\n",
       "      <td>705100.0</td>\n",
       "    </tr>\n",
       "  </tbody>\n",
       "</table>\n",
       "</div>"
      ],
      "text/plain": [
       "           symbol        open       close         low        high     volume\n",
       "date                                                                        \n",
       "2016-12-30    ZBH  103.309998  103.199997  102.849998  103.930000   973800.0\n",
       "2016-12-30   ZION   43.070000   43.040001   42.689999   43.310001  1938100.0\n",
       "2016-12-30    ZTS   53.639999   53.529999   53.270000   53.740002  1701200.0\n",
       "2016-12-30    AIV   44.730000   45.450001   44.410000   45.590000  1380900.0\n",
       "2016-12-30    FTV   54.200001   53.630001   53.389999   54.480000   705100.0"
      ]
     },
     "execution_count": 4,
     "metadata": {},
     "output_type": "execute_result"
    }
   ],
   "source": [
    "df.tail()"
   ]
  },
  {
   "cell_type": "code",
   "execution_count": 5,
   "metadata": {},
   "outputs": [
    {
     "data": {
      "text/html": [
       "<div>\n",
       "<style scoped>\n",
       "    .dataframe tbody tr th:only-of-type {\n",
       "        vertical-align: middle;\n",
       "    }\n",
       "\n",
       "    .dataframe tbody tr th {\n",
       "        vertical-align: top;\n",
       "    }\n",
       "\n",
       "    .dataframe thead th {\n",
       "        text-align: right;\n",
       "    }\n",
       "</style>\n",
       "<table border=\"1\" class=\"dataframe\">\n",
       "  <thead>\n",
       "    <tr style=\"text-align: right;\">\n",
       "      <th></th>\n",
       "      <th>open</th>\n",
       "      <th>close</th>\n",
       "      <th>low</th>\n",
       "      <th>high</th>\n",
       "      <th>volume</th>\n",
       "    </tr>\n",
       "  </thead>\n",
       "  <tbody>\n",
       "    <tr>\n",
       "      <th>count</th>\n",
       "      <td>851264.000000</td>\n",
       "      <td>851264.000000</td>\n",
       "      <td>851264.000000</td>\n",
       "      <td>851264.000000</td>\n",
       "      <td>8.512640e+05</td>\n",
       "    </tr>\n",
       "    <tr>\n",
       "      <th>mean</th>\n",
       "      <td>64.993618</td>\n",
       "      <td>65.011913</td>\n",
       "      <td>64.336541</td>\n",
       "      <td>65.639748</td>\n",
       "      <td>5.415113e+06</td>\n",
       "    </tr>\n",
       "    <tr>\n",
       "      <th>std</th>\n",
       "      <td>75.203893</td>\n",
       "      <td>75.201216</td>\n",
       "      <td>74.459518</td>\n",
       "      <td>75.906861</td>\n",
       "      <td>1.249468e+07</td>\n",
       "    </tr>\n",
       "    <tr>\n",
       "      <th>min</th>\n",
       "      <td>1.660000</td>\n",
       "      <td>1.590000</td>\n",
       "      <td>1.500000</td>\n",
       "      <td>1.810000</td>\n",
       "      <td>0.000000e+00</td>\n",
       "    </tr>\n",
       "    <tr>\n",
       "      <th>25%</th>\n",
       "      <td>31.270000</td>\n",
       "      <td>31.292776</td>\n",
       "      <td>30.940001</td>\n",
       "      <td>31.620001</td>\n",
       "      <td>1.221500e+06</td>\n",
       "    </tr>\n",
       "    <tr>\n",
       "      <th>50%</th>\n",
       "      <td>48.459999</td>\n",
       "      <td>48.480000</td>\n",
       "      <td>47.970001</td>\n",
       "      <td>48.959999</td>\n",
       "      <td>2.476250e+06</td>\n",
       "    </tr>\n",
       "    <tr>\n",
       "      <th>75%</th>\n",
       "      <td>75.120003</td>\n",
       "      <td>75.139999</td>\n",
       "      <td>74.400002</td>\n",
       "      <td>75.849998</td>\n",
       "      <td>5.222500e+06</td>\n",
       "    </tr>\n",
       "    <tr>\n",
       "      <th>max</th>\n",
       "      <td>1584.439941</td>\n",
       "      <td>1578.130005</td>\n",
       "      <td>1549.939941</td>\n",
       "      <td>1600.930054</td>\n",
       "      <td>8.596434e+08</td>\n",
       "    </tr>\n",
       "  </tbody>\n",
       "</table>\n",
       "</div>"
      ],
      "text/plain": [
       "                open          close            low           high  \\\n",
       "count  851264.000000  851264.000000  851264.000000  851264.000000   \n",
       "mean       64.993618      65.011913      64.336541      65.639748   \n",
       "std        75.203893      75.201216      74.459518      75.906861   \n",
       "min         1.660000       1.590000       1.500000       1.810000   \n",
       "25%        31.270000      31.292776      30.940001      31.620001   \n",
       "50%        48.459999      48.480000      47.970001      48.959999   \n",
       "75%        75.120003      75.139999      74.400002      75.849998   \n",
       "max      1584.439941    1578.130005    1549.939941    1600.930054   \n",
       "\n",
       "             volume  \n",
       "count  8.512640e+05  \n",
       "mean   5.415113e+06  \n",
       "std    1.249468e+07  \n",
       "min    0.000000e+00  \n",
       "25%    1.221500e+06  \n",
       "50%    2.476250e+06  \n",
       "75%    5.222500e+06  \n",
       "max    8.596434e+08  "
      ]
     },
     "execution_count": 5,
     "metadata": {},
     "output_type": "execute_result"
    }
   ],
   "source": [
    "df.describe()"
   ]
  },
  {
   "cell_type": "code",
   "execution_count": 6,
   "metadata": {},
   "outputs": [
    {
     "data": {
      "image/png": "[encoded data removed]",
      "text/plain": [
       "<Figure size 1080x360 with 2 Axes>"
      ]
     },
     "metadata": {
      "needs_background": "light"
     },
     "output_type": "display_data"
    }
   ],
   "source": [
    "plt.figure(figsize=(15, 5));\n",
    "plt.subplot(1,2,1);\n",
    "plt.plot(df[df.symbol == 'EQIX'].open.values, color='red', label='open')\n",
    "plt.plot(df[df.symbol == 'EQIX'].close.values, color='green', label='close')\n",
    "plt.plot(df[df.symbol == 'EQIX'].low.values, color='blue', label='low')\n",
    "plt.plot(df[df.symbol == 'EQIX'].high.values, color='black', label='high')\n",
    "plt.title('stock price')\n",
    "plt.xlabel('time [days]')\n",
    "plt.ylabel('price')\n",
    "plt.legend(loc='best')\n",
    "#plt.show()\n",
    "\n",
    "plt.subplot(1,2,2);\n",
    "plt.plot(df[df.symbol == 'EQIX'].volume.values, color='black', label='volume')\n",
    "plt.title('stock volume')\n",
    "plt.xlabel('time [days]')\n",
    "plt.ylabel('volume')\n",
    "plt.legend(loc='best');"
   ]
  },
  {
   "cell_type": "markdown",
   "metadata": {},
   "source": [
    "# 3. Manipulate data \n",
    "- choose a specific stock\n",
    "- drop feature: volume\n",
    "- normalize stock data\n",
    "- create train and test data sets"
   ]
  },
  {
   "cell_type": "code",
   "execution_count": 7,
   "metadata": {},
   "outputs": [],
   "source": [
    "def feature_normalize(train):\n",
    "    train_norm = train.apply(lambda x: (x - np.min(x)) / (np.max(x) - np.min(x)))  #標準化(介於0~1之間)\n",
    "    return train_norm"
   ]
  },
  {
   "cell_type": "code",
   "execution_count": 8,
   "metadata": {},
   "outputs": [],
   "source": [
    "## 很重要  切割視窗\n",
    "def create_segments_and_labels(df, time_steps, step):#, label_name):\n",
    "    \"\"\"\n",
    "    This function receives a dataframe and returns the reshaped segments\n",
    "    of x,y,z acceleration as well as the corresponding labels\n",
    "    Args:\n",
    "        df: Dataframe in the expected format\n",
    "        time_steps: Integer value of the length of a segment that is created\n",
    "    Returns:\n",
    "        reshaped_segments\n",
    "        labels:\n",
    "    \"\"\"\n",
    "#圖畫中的overlap越高，代表資料中的相關性越強\n",
    "#圖中80筆資料一次跳40筆，代表其並非相關性高\n",
    "#feature 有四個\n",
    "    N_FEATURES = 4\n",
    "#選擇測試切出20%\n",
    "    test_set_size_percentage = 20\n",
    "    segments = []\n",
    "    labels = []\n",
    "    \n",
    "    data_raw = df.as_matrix()\n",
    "#創造時間窗，將所有選擇特徵一起切割視窗\n",
    "    for i in range(0, len(data_raw) - time_steps, step):#\n",
    "        segments.append(data_raw[i: i + time_steps])\n",
    "       \n",
    "    segments = np.array(segments);     \n",
    "    test_set_size = int(np.round(test_set_size_percentage/100*segments.shape[0]));\n",
    "    train_set_size = segments.shape[0] - (test_set_size);    \n",
    "#以訓練資料占比分割訓練測試集，並以視窗最後一筆資料當作預測值    \n",
    "    x_train = segments[:train_set_size,:-1,:]\n",
    "    y_train = segments[:train_set_size,-1,:]\n",
    "\n",
    "#     x_valid = data[train_set_size:train_set_size+valid_set_size,:-1,:]\n",
    "#     y_valid = data[train_set_size:train_set_size+valid_set_size,-1,:]\n",
    "\n",
    "    x_test = segments[train_set_size:,:-1,:]\n",
    "    y_test = segments[train_set_size:,-1,:]\n",
    "    \n",
    "    return [x_train, y_train, x_test, y_test]\n",
    "#     return [x_train, y_train, x_valid, y_valid, x_test, y_test]"
   ]
  },
  {
   "cell_type": "code",
   "execution_count": 9,
   "metadata": {},
   "outputs": [
    {
     "name": "stdout",
     "output_type": "stream",
     "text": [
      "df_stock.columns.values =  ['open', 'close', 'low', 'high']\n",
      "x_train.shape =  (279, 19, 4)\n",
      "y_train.shape =  (279, 4)\n",
      "x_test.shape =  (70, 19, 4)\n",
      "y_test.shape =  (70, 4)\n"
     ]
    },
    {
     "name": "stderr",
     "output_type": "stream",
     "text": [
      "d:\\programfiles\\python37\\lib\\site-packages\\ipykernel_launcher.py:22: FutureWarning: Method .as_matrix will be removed in a future version. Use .values instead.\n"
     ]
    }
   ],
   "source": [
    "# choose one stock & drop volume\n",
    "df_stock = df[df.symbol == 'EQIX'].copy()\n",
    "df_stock.drop(['symbol'],1,inplace=True)\n",
    "df_stock.drop(['volume'],1,inplace=True)\n",
    "\n",
    "cols = list(df_stock.columns.values)\n",
    "print('df_stock.columns.values = ', cols)\n",
    "\n",
    "# normalize stock\n",
    "df_stock_norm = df_stock.copy()\n",
    "df_stock_norm = feature_normalize(df_stock_norm)\n",
    "\n",
    "\n",
    "# create train, test data\n",
    "time_steps = 20# choose sequence length\n",
    "step = 5\n",
    "x_train, y_train, x_test, y_test = create_segments_and_labels(df_stock_norm, time_steps, step)\n",
    "print('x_train.shape = ',x_train.shape)\n",
    "print('y_train.shape = ', y_train.shape)\n",
    "# print('x_valid.shape = ',x_valid.shape)\n",
    "# print('y_valid.shape = ', y_valid.shape)\n",
    "print('x_test.shape = ', x_test.shape)\n",
    "print('y_test.shape = ',y_test.shape)"
   ]
  },
  {
   "cell_type": "code",
   "execution_count": 10,
   "metadata": {},
   "outputs": [
    {
     "data": {
      "text/plain": [
       "(1762, 4)"
      ]
     },
     "execution_count": 10,
     "metadata": {},
     "output_type": "execute_result"
    }
   ],
   "source": [
    "df_stock_norm.values.shape"
   ]
  },
  {
   "cell_type": "code",
   "execution_count": 11,
   "metadata": {},
   "outputs": [
    {
     "data": {
      "image/png": "[encoded data removed]",
      "text/plain": [
       "<Figure size 432x288 with 1 Axes>"
      ]
     },
     "metadata": {
      "needs_background": "light"
     },
     "output_type": "display_data"
    }
   ],
   "source": [
    "plt.plot(df_stock_norm.open.values, color='red', label='open')\n",
    "plt.plot(df_stock_norm.close.values, color='green', label='close')\n",
    "plt.plot(df_stock_norm.low.values, color='blue', label='low')\n",
    "plt.plot(df_stock_norm.high.values, color='black', label='high')\n",
    "#plt.plot(df_stock_norm.volume.values, color='gray', label='volume')\n",
    "plt.title('stock')\n",
    "plt.xlabel('time [days]')\n",
    "plt.ylabel('normalized price/volume')\n",
    "plt.legend(loc='best')\n",
    "plt.show()"
   ]
  },
  {
   "cell_type": "code",
   "execution_count": 12,
   "metadata": {},
   "outputs": [
    {
     "name": "stdout",
     "output_type": "stream",
     "text": [
      "x_train_reshape.shape:(279, 76)\n",
      "x_test_reshape.shape:(70, 76)\n"
     ]
    }
   ],
   "source": [
    "# num_time_periods, num_sensors = x_train.shape[1], x_train.shape[2]\n",
    "# input_shape = (num_time_periods*num_sensors)   ## 80*3  每一筆資料 80(時間窗) 3個變數( xyz) \n",
    "# x_train_reshape = x_train.reshape(x_train.shape[0], input_shape).astype('float32')\n",
    "# print(f\"x_train_reshape.shape:{x_train_reshape.shape}\")\n",
    "num_time_periods, num_sensors = x_train.shape[1], x_train.shape[2]\n",
    "input_shape = (num_time_periods*num_sensors)   ## 80*3  每一筆資料 80(時間窗) 3個變數( xyz) \n",
    "x_train_reshape = x_train.reshape(x_train.shape[0], input_shape).astype('float32')\n",
    "print(f\"x_train_reshape.shape:{x_train_reshape.shape}\")\n",
    "x_test_reshape = x_test.reshape(x_test.shape[0], input_shape).astype('float32')\n",
    "print(f\"x_test_reshape.shape:{x_test_reshape.shape}\")"
   ]
  },
  {
   "cell_type": "markdown",
   "metadata": {},
   "source": [
    "# MLP model"
   ]
  },
  {
   "cell_type": "code",
   "execution_count": 13,
   "metadata": {},
   "outputs": [
    {
     "name": "stdout",
     "output_type": "stream",
     "text": [
      "WARNING:tensorflow:From d:\\programfiles\\python37\\lib\\site-packages\\tensorflow\\python\\framework\\op_def_library.py:263: colocate_with (from tensorflow.python.framework.ops) is deprecated and will be removed in a future version.\n",
      "Instructions for updating:\n",
      "Colocations handled automatically by placer.\n",
      "_________________________________________________________________\n",
      "Layer (type)                 Output Shape              Param #   \n",
      "=================================================================\n",
      "dense_1 (Dense)              (None, 256)               19712     \n",
      "_________________________________________________________________\n",
      "dense_2 (Dense)              (None, 100)               25700     \n",
      "_________________________________________________________________\n",
      "dense_3 (Dense)              (None, 4)                 404       \n",
      "=================================================================\n",
      "Total params: 45,816\n",
      "Trainable params: 45,816\n",
      "Non-trainable params: 0\n",
      "_________________________________________________________________\n",
      "None\n"
     ]
    }
   ],
   "source": [
    "## units可自行調整，設越大訓練越久\n",
    "## kernel_initializer：函數初始值\n",
    "## activation：激勵函數可自行挑選\n",
    "# units需設為13，否則會報錯\n",
    "\n",
    "model_mlp = Sequential()\n",
    "model_mlp.add(Dense(units=256, input_dim = 76, kernel_initializer=\"normal\", activation=\"softmax\")) \n",
    "model_mlp.add(Dense(units=100, kernel_initializer=\"normal\", activation=\"relu\")) \n",
    "model_mlp.add(Dense(units=4, kernel_initializer=\"normal\", activation=\"relu\")) \n",
    "print(model_mlp.summary())"
   ]
  },
  {
   "cell_type": "code",
   "execution_count": 14,
   "metadata": {},
   "outputs": [
    {
     "name": "stdout",
     "output_type": "stream",
     "text": [
      "WARNING:tensorflow:From d:\\programfiles\\python37\\lib\\site-packages\\tensorflow\\python\\ops\\math_ops.py:3066: to_int32 (from tensorflow.python.ops.math_ops) is deprecated and will be removed in a future version.\n",
      "Instructions for updating:\n",
      "Use tf.cast instead.\n",
      "Train on 228 samples, validate on 51 samples\n",
      "Epoch 1/50\n",
      " - 1s - loss: 0.0721 - mean_squared_error: 0.0721 - val_loss: 0.2463 - val_mean_squared_error: 0.2463\n",
      "Epoch 2/50\n",
      " - 0s - loss: 0.0617 - mean_squared_error: 0.0617 - val_loss: 0.2172 - val_mean_squared_error: 0.2172\n",
      "Epoch 3/50\n",
      " - 0s - loss: 0.0497 - mean_squared_error: 0.0497 - val_loss: 0.1818 - val_mean_squared_error: 0.1818\n",
      "Epoch 4/50\n",
      " - 0s - loss: 0.0378 - mean_squared_error: 0.0378 - val_loss: 0.1428 - val_mean_squared_error: 0.1428\n",
      "Epoch 5/50\n",
      " - 0s - loss: 0.0278 - mean_squared_error: 0.0278 - val_loss: 0.1061 - val_mean_squared_error: 0.1061\n",
      "Epoch 6/50\n",
      " - 0s - loss: 0.0221 - mean_squared_error: 0.0221 - val_loss: 0.0765 - val_mean_squared_error: 0.0765\n",
      "Epoch 7/50\n",
      " - 0s - loss: 0.0196 - mean_squared_error: 0.0196 - val_loss: 0.0601 - val_mean_squared_error: 0.0601\n",
      "Epoch 8/50\n",
      " - 0s - loss: 0.0181 - mean_squared_error: 0.0181 - val_loss: 0.0525 - val_mean_squared_error: 0.0525\n",
      "Epoch 9/50\n",
      " - 0s - loss: 0.0161 - mean_squared_error: 0.0161 - val_loss: 0.0481 - val_mean_squared_error: 0.0481\n",
      "Epoch 10/50\n",
      " - 0s - loss: 0.0135 - mean_squared_error: 0.0135 - val_loss: 0.0425 - val_mean_squared_error: 0.0425\n",
      "Epoch 11/50\n",
      " - 0s - loss: 0.0107 - mean_squared_error: 0.0107 - val_loss: 0.0332 - val_mean_squared_error: 0.0332\n",
      "Epoch 12/50\n",
      " - 0s - loss: 0.0079 - mean_squared_error: 0.0079 - val_loss: 0.0248 - val_mean_squared_error: 0.0248\n",
      "Epoch 13/50\n",
      " - 0s - loss: 0.0053 - mean_squared_error: 0.0053 - val_loss: 0.0173 - val_mean_squared_error: 0.0173\n",
      "Epoch 14/50\n",
      " - 0s - loss: 0.0032 - mean_squared_error: 0.0032 - val_loss: 0.0125 - val_mean_squared_error: 0.0125\n",
      "Epoch 15/50\n",
      " - 0s - loss: 0.0019 - mean_squared_error: 0.0019 - val_loss: 0.0096 - val_mean_squared_error: 0.0096\n",
      "Epoch 16/50\n",
      " - 0s - loss: 0.0011 - mean_squared_error: 0.0011 - val_loss: 0.0083 - val_mean_squared_error: 0.0083\n",
      "Epoch 17/50\n",
      " - 0s - loss: 7.2071e-04 - mean_squared_error: 7.2071e-04 - val_loss: 0.0067 - val_mean_squared_error: 0.0067\n",
      "Epoch 18/50\n",
      " - 0s - loss: 5.7511e-04 - mean_squared_error: 5.7511e-04 - val_loss: 0.0055 - val_mean_squared_error: 0.0055\n",
      "Epoch 19/50\n",
      " - 0s - loss: 5.4413e-04 - mean_squared_error: 5.4413e-04 - val_loss: 0.0059 - val_mean_squared_error: 0.0059\n",
      "Epoch 20/50\n",
      " - 0s - loss: 5.2636e-04 - mean_squared_error: 5.2636e-04 - val_loss: 0.0055 - val_mean_squared_error: 0.0055\n",
      "Epoch 21/50\n",
      " - 0s - loss: 5.0157e-04 - mean_squared_error: 5.0157e-04 - val_loss: 0.0060 - val_mean_squared_error: 0.0060\n",
      "Epoch 22/50\n",
      " - 0s - loss: 5.0315e-04 - mean_squared_error: 5.0315e-04 - val_loss: 0.0057 - val_mean_squared_error: 0.0057\n",
      "Epoch 23/50\n",
      " - 0s - loss: 5.0559e-04 - mean_squared_error: 5.0559e-04 - val_loss: 0.0054 - val_mean_squared_error: 0.0054\n",
      "Epoch 24/50\n",
      " - 0s - loss: 4.7848e-04 - mean_squared_error: 4.7848e-04 - val_loss: 0.0056 - val_mean_squared_error: 0.0056\n",
      "Epoch 25/50\n",
      " - 0s - loss: 4.7155e-04 - mean_squared_error: 4.7155e-04 - val_loss: 0.0058 - val_mean_squared_error: 0.0058\n",
      "Epoch 26/50\n",
      " - 0s - loss: 4.5731e-04 - mean_squared_error: 4.5731e-04 - val_loss: 0.0054 - val_mean_squared_error: 0.0054\n",
      "Epoch 27/50\n",
      " - 0s - loss: 4.5692e-04 - mean_squared_error: 4.5692e-04 - val_loss: 0.0054 - val_mean_squared_error: 0.0054\n",
      "Epoch 28/50\n",
      " - 0s - loss: 4.5826e-04 - mean_squared_error: 4.5826e-04 - val_loss: 0.0052 - val_mean_squared_error: 0.0052\n",
      "Epoch 29/50\n",
      " - 0s - loss: 4.5925e-04 - mean_squared_error: 4.5925e-04 - val_loss: 0.0053 - val_mean_squared_error: 0.0053\n",
      "Epoch 30/50\n",
      " - 0s - loss: 4.4917e-04 - mean_squared_error: 4.4917e-04 - val_loss: 0.0048 - val_mean_squared_error: 0.0048\n",
      "Epoch 31/50\n",
      " - 0s - loss: 4.5434e-04 - mean_squared_error: 4.5434e-04 - val_loss: 0.0052 - val_mean_squared_error: 0.0052\n",
      "Epoch 32/50\n",
      " - 0s - loss: 4.3333e-04 - mean_squared_error: 4.3333e-04 - val_loss: 0.0046 - val_mean_squared_error: 0.0046\n",
      "Epoch 33/50\n",
      " - 0s - loss: 4.3218e-04 - mean_squared_error: 4.3218e-04 - val_loss: 0.0051 - val_mean_squared_error: 0.0051\n",
      "Epoch 34/50\n",
      " - 0s - loss: 4.2089e-04 - mean_squared_error: 4.2089e-04 - val_loss: 0.0042 - val_mean_squared_error: 0.0042\n",
      "Epoch 35/50\n",
      " - 0s - loss: 4.2195e-04 - mean_squared_error: 4.2195e-04 - val_loss: 0.0049 - val_mean_squared_error: 0.0049\n",
      "Epoch 36/50\n",
      " - 0s - loss: 4.1865e-04 - mean_squared_error: 4.1865e-04 - val_loss: 0.0047 - val_mean_squared_error: 0.0047\n",
      "Epoch 37/50\n",
      " - 0s - loss: 4.2329e-04 - mean_squared_error: 4.2329e-04 - val_loss: 0.0044 - val_mean_squared_error: 0.0044\n",
      "Epoch 38/50\n",
      " - 0s - loss: 4.1038e-04 - mean_squared_error: 4.1038e-04 - val_loss: 0.0045 - val_mean_squared_error: 0.0045\n",
      "Epoch 39/50\n",
      " - 0s - loss: 4.0647e-04 - mean_squared_error: 4.0647e-04 - val_loss: 0.0042 - val_mean_squared_error: 0.0042\n",
      "Epoch 40/50\n",
      " - 0s - loss: 4.0311e-04 - mean_squared_error: 4.0311e-04 - val_loss: 0.0041 - val_mean_squared_error: 0.0041\n",
      "Epoch 41/50\n",
      " - 0s - loss: 3.9675e-04 - mean_squared_error: 3.9675e-04 - val_loss: 0.0041 - val_mean_squared_error: 0.0041\n",
      "Epoch 42/50\n",
      " - 0s - loss: 3.9096e-04 - mean_squared_error: 3.9096e-04 - val_loss: 0.0039 - val_mean_squared_error: 0.0039\n",
      "Epoch 43/50\n",
      " - 0s - loss: 3.8574e-04 - mean_squared_error: 3.8574e-04 - val_loss: 0.0040 - val_mean_squared_error: 0.0040\n",
      "Epoch 44/50\n",
      " - 0s - loss: 3.8792e-04 - mean_squared_error: 3.8792e-04 - val_loss: 0.0040 - val_mean_squared_error: 0.0040\n",
      "Epoch 45/50\n",
      " - 0s - loss: 3.8131e-04 - mean_squared_error: 3.8131e-04 - val_loss: 0.0036 - val_mean_squared_error: 0.0036\n",
      "Epoch 46/50\n",
      " - 0s - loss: 3.8245e-04 - mean_squared_error: 3.8245e-04 - val_loss: 0.0037 - val_mean_squared_error: 0.0037\n",
      "Epoch 47/50\n",
      " - 0s - loss: 3.7795e-04 - mean_squared_error: 3.7795e-04 - val_loss: 0.0038 - val_mean_squared_error: 0.0038\n",
      "Epoch 48/50\n",
      " - 0s - loss: 3.7693e-04 - mean_squared_error: 3.7693e-04 - val_loss: 0.0035 - val_mean_squared_error: 0.0035\n",
      "Epoch 49/50\n",
      " - 0s - loss: 3.7767e-04 - mean_squared_error: 3.7767e-04 - val_loss: 0.0033 - val_mean_squared_error: 0.0033\n",
      "Epoch 50/50\n",
      " - 0s - loss: 3.6514e-04 - mean_squared_error: 3.6514e-04 - val_loss: 0.0034 - val_mean_squared_error: 0.0034\n"
     ]
    }
   ],
   "source": [
    "# model.compile(loss=\"categorical_crossentropy\", optimizer=\"Adam\", metrics=[\"accuracy\"])\n",
    "model_mlp.compile(loss=\"MSE\", optimizer=\"Adam\", metrics=[\"mse\"])\n",
    "\n",
    "# epochs:訓練幾次\n",
    "train_history = model_mlp.fit(x = x_train_reshape, y = y_train, validation_split=0.18, epochs=50, batch_size=30, verbose=2)"
   ]
  },
  {
   "cell_type": "code",
   "execution_count": 15,
   "metadata": {},
   "outputs": [],
   "source": [
    "import matplotlib.pyplot as plt\n",
    "def show_train_history(train_history, train, validation):\n",
    "    plt.plot(train_history.history[train])\n",
    "    plt.plot(train_history.history[validation])\n",
    "    plt.title(\"Train History\")\n",
    "    plt.ylabel(train)\n",
    "    plt.xlabel('Epoch')\n",
    "    plt.show()"
   ]
  },
  {
   "cell_type": "code",
   "execution_count": 16,
   "metadata": {},
   "outputs": [
    {
     "data": {
      "image/png": "[encoded data removed]",
      "text/plain": [
       "<Figure size 432x288 with 1 Axes>"
      ]
     },
     "metadata": {
      "needs_background": "light"
     },
     "output_type": "display_data"
    }
   ],
   "source": [
    "show_train_history(train_history, \"mean_squared_error\", \"val_loss\") ## 訓練正確率圖"
   ]
  },
  {
   "cell_type": "code",
   "execution_count": 17,
   "metadata": {},
   "outputs": [
    {
     "name": "stdout",
     "output_type": "stream",
     "text": [
      "x_test_reshape.shape:(70, 76)\n",
      "70/70 [==============================] - 0s 43us/step\n",
      "MSE:0.06875587041888918\n"
     ]
    }
   ],
   "source": [
    "x_test_reshape = x_test.reshape(x_test.shape[0], input_shape).astype('float32')\n",
    "print(f\"x_test_reshape.shape:{x_test_reshape.shape}\")\n",
    "scores = model_mlp.evaluate(x_test_reshape, y_test)\n",
    "print(f\"MSE:{scores[0]}\")"
   ]
  }
 ],
 "metadata": {
  "kernelspec": {
   "display_name": "Python 3",
   "language": "python",
   "name": "python3"
  },
  "language_info": {
   "codemirror_mode": {
    "name": "ipython",
    "version": 3
   },
   "file_extension": ".py",
   "mimetype": "text/x-python",
   "name": "python",
   "nbconvert_exporter": "python",
   "pygments_lexer": "ipython3",
   "version": "3.7.6"
  }
 },
 "nbformat": 4,
 "nbformat_minor": 2
}
