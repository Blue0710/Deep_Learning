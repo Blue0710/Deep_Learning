{
 "cells": [
  {
   "cell_type": "markdown",
   "metadata": {},
   "source": [
    "# 1. Libraries and settings"
   ]
  },
  {
   "cell_type": "code",
   "execution_count": 1,
   "metadata": {},
   "outputs": [
    {
     "name": "stderr",
     "output_type": "stream",
     "text": [
      "d:\\programfiles\\python37\\lib\\site-packages\\tensorflow\\python\\framework\\dtypes.py:526: FutureWarning: Passing (type, 1) or '1type' as a synonym of type is deprecated; in a future version of numpy, it will be understood as (type, (1,)) / '(1,)type'.\n",
      "  _np_qint8 = np.dtype([(\"qint8\", np.int8, 1)])\n",
      "d:\\programfiles\\python37\\lib\\site-packages\\tensorflow\\python\\framework\\dtypes.py:527: FutureWarning: Passing (type, 1) or '1type' as a synonym of type is deprecated; in a future version of numpy, it will be understood as (type, (1,)) / '(1,)type'.\n",
      "  _np_quint8 = np.dtype([(\"quint8\", np.uint8, 1)])\n",
      "d:\\programfiles\\python37\\lib\\site-packages\\tensorflow\\python\\framework\\dtypes.py:528: FutureWarning: Passing (type, 1) or '1type' as a synonym of type is deprecated; in a future version of numpy, it will be understood as (type, (1,)) / '(1,)type'.\n",
      "  _np_qint16 = np.dtype([(\"qint16\", np.int16, 1)])\n",
      "d:\\programfiles\\python37\\lib\\site-packages\\tensorflow\\python\\framework\\dtypes.py:529: FutureWarning: Passing (type, 1) or '1type' as a synonym of type is deprecated; in a future version of numpy, it will be understood as (type, (1,)) / '(1,)type'.\n",
      "  _np_quint16 = np.dtype([(\"quint16\", np.uint16, 1)])\n",
      "d:\\programfiles\\python37\\lib\\site-packages\\tensorflow\\python\\framework\\dtypes.py:530: FutureWarning: Passing (type, 1) or '1type' as a synonym of type is deprecated; in a future version of numpy, it will be understood as (type, (1,)) / '(1,)type'.\n",
      "  _np_qint32 = np.dtype([(\"qint32\", np.int32, 1)])\n",
      "d:\\programfiles\\python37\\lib\\site-packages\\tensorflow\\python\\framework\\dtypes.py:535: FutureWarning: Passing (type, 1) or '1type' as a synonym of type is deprecated; in a future version of numpy, it will be understood as (type, (1,)) / '(1,)type'.\n",
      "  np_resource = np.dtype([(\"resource\", np.ubyte, 1)])\n"
     ]
    },
    {
     "name": "stdout",
     "output_type": "stream",
     "text": [
      "D:\\Value of Dream\\108-1 深度學習\\Deep Learning Tool\\RNN\\NYSE Stock: ['Categorical Dependent Variable', 'Continuous Dependent Variable']\n",
      "D:\\Value of Dream\\108-1 深度學習\\Deep Learning Tool\\RNN\\NYSE Stock\\Categorical Dependent Variable: ['.ipynb_checkpoints', 'RNN for categorical y.ipynb', 'RNN for categorical y.pdf']\n"
     ]
    },
    {
     "name": "stderr",
     "output_type": "stream",
     "text": [
      "Using TensorFlow backend.\n"
     ]
    }
   ],
   "source": [
    "import pandas as pd\n",
    "import numpy as np\n",
    "import math\n",
    "import sklearn\n",
    "import sklearn.preprocessing\n",
    "from sklearn import metrics\n",
    "from sklearn.metrics import classification_report\n",
    "import seaborn as sns\n",
    "import datetime\n",
    "import os\n",
    "import matplotlib.pyplot as plt\n",
    "import tensorflow as tf\n",
    "import matplotlib.pyplot as plt\n",
    "import keras\n",
    "from keras.models import Sequential\n",
    "from keras.layers import Dense, Dropout, Flatten, Reshape, GlobalAveragePooling1D\n",
    "from keras.layers import Conv2D, MaxPooling2D, Conv1D, MaxPooling1D\n",
    "from keras.utils import np_utils\n",
    "\n",
    "\n",
    "#display parent directory and working directory\n",
    "print(os.path.dirname(os.getcwd())+':', os.listdir(os.path.dirname(os.getcwd())));\n",
    "print(os.getcwd()+':', os.listdir(os.getcwd()));"
   ]
  },
  {
   "cell_type": "markdown",
   "metadata": {},
   "source": [
    "# 2. Analyze Data"
   ]
  },
  {
   "cell_type": "code",
   "execution_count": 3,
   "metadata": {},
   "outputs": [
    {
     "name": "stdout",
     "output_type": "stream",
     "text": [
      "<class 'pandas.core.frame.DataFrame'>\n",
      "Index: 851264 entries, 2016-01-05 to 2016-12-30\n",
      "Data columns (total 6 columns):\n",
      "symbol    851264 non-null object\n",
      "open      851264 non-null float64\n",
      "close     851264 non-null float64\n",
      "low       851264 non-null float64\n",
      "high      851264 non-null float64\n",
      "volume    851264 non-null float64\n",
      "dtypes: float64(5), object(1)\n",
      "memory usage: 45.5+ MB\n",
      "None\n",
      "           symbol        open       close         low        high     volume\n",
      "date                                                                        \n",
      "2016-01-05   WLTW  123.430000  125.839996  122.309998  126.250000  2163600.0\n",
      "2016-01-06   WLTW  125.239998  119.980003  119.940002  125.540001  2386400.0\n",
      "2016-01-07   WLTW  116.379997  114.949997  114.930000  119.739998  2489500.0\n",
      "2016-01-08   WLTW  115.480003  116.620003  113.500000  117.440002  2006300.0\n",
      "2016-01-11   WLTW  117.010002  114.970001  114.089996  117.330002  1408600.0\n",
      "(851264, 6)\n",
      "\n",
      "number of different stocks:  501\n",
      "['LYB', 'TRIP', 'ROK', 'TDG', 'ABT', 'RIG', 'DHR', 'SLB', 'TWX', 'LUK']\n"
     ]
    }
   ],
   "source": [
    "df = pd.read_csv(\"D:/Value of Dream/108-1 深度學習/Deep Learning Tool/Data/prices-split-adjusted.csv\", index_col = 0)\n",
    "print(df.info())\n",
    "print(df.head())\n",
    "print(df.values.shape)\n",
    "# number of different stocks\n",
    "print('\\nnumber of different stocks: ', len(list(set(df.symbol))))\n",
    "print(list(set(df.symbol))[:10])"
   ]
  },
  {
   "cell_type": "code",
   "execution_count": 4,
   "metadata": {},
   "outputs": [
    {
     "data": {
      "text/html": [
       "<div>\n",
       "<style scoped>\n",
       "    .dataframe tbody tr th:only-of-type {\n",
       "        vertical-align: middle;\n",
       "    }\n",
       "\n",
       "    .dataframe tbody tr th {\n",
       "        vertical-align: top;\n",
       "    }\n",
       "\n",
       "    .dataframe thead th {\n",
       "        text-align: right;\n",
       "    }\n",
       "</style>\n",
       "<table border=\"1\" class=\"dataframe\">\n",
       "  <thead>\n",
       "    <tr style=\"text-align: right;\">\n",
       "      <th></th>\n",
       "      <th>symbol</th>\n",
       "      <th>open</th>\n",
       "      <th>close</th>\n",
       "      <th>low</th>\n",
       "      <th>high</th>\n",
       "      <th>volume</th>\n",
       "    </tr>\n",
       "    <tr>\n",
       "      <th>date</th>\n",
       "      <th></th>\n",
       "      <th></th>\n",
       "      <th></th>\n",
       "      <th></th>\n",
       "      <th></th>\n",
       "      <th></th>\n",
       "    </tr>\n",
       "  </thead>\n",
       "  <tbody>\n",
       "    <tr>\n",
       "      <th>2016-12-30</th>\n",
       "      <td>ZBH</td>\n",
       "      <td>103.309998</td>\n",
       "      <td>103.199997</td>\n",
       "      <td>102.849998</td>\n",
       "      <td>103.930000</td>\n",
       "      <td>973800.0</td>\n",
       "    </tr>\n",
       "    <tr>\n",
       "      <th>2016-12-30</th>\n",
       "      <td>ZION</td>\n",
       "      <td>43.070000</td>\n",
       "      <td>43.040001</td>\n",
       "      <td>42.689999</td>\n",
       "      <td>43.310001</td>\n",
       "      <td>1938100.0</td>\n",
       "    </tr>\n",
       "    <tr>\n",
       "      <th>2016-12-30</th>\n",
       "      <td>ZTS</td>\n",
       "      <td>53.639999</td>\n",
       "      <td>53.529999</td>\n",
       "      <td>53.270000</td>\n",
       "      <td>53.740002</td>\n",
       "      <td>1701200.0</td>\n",
       "    </tr>\n",
       "    <tr>\n",
       "      <th>2016-12-30</th>\n",
       "      <td>AIV</td>\n",
       "      <td>44.730000</td>\n",
       "      <td>45.450001</td>\n",
       "      <td>44.410000</td>\n",
       "      <td>45.590000</td>\n",
       "      <td>1380900.0</td>\n",
       "    </tr>\n",
       "    <tr>\n",
       "      <th>2016-12-30</th>\n",
       "      <td>FTV</td>\n",
       "      <td>54.200001</td>\n",
       "      <td>53.630001</td>\n",
       "      <td>53.389999</td>\n",
       "      <td>54.480000</td>\n",
       "      <td>705100.0</td>\n",
       "    </tr>\n",
       "  </tbody>\n",
       "</table>\n",
       "</div>"
      ],
      "text/plain": [
       "           symbol        open       close         low        high     volume\n",
       "date                                                                        \n",
       "2016-12-30    ZBH  103.309998  103.199997  102.849998  103.930000   973800.0\n",
       "2016-12-30   ZION   43.070000   43.040001   42.689999   43.310001  1938100.0\n",
       "2016-12-30    ZTS   53.639999   53.529999   53.270000   53.740002  1701200.0\n",
       "2016-12-30    AIV   44.730000   45.450001   44.410000   45.590000  1380900.0\n",
       "2016-12-30    FTV   54.200001   53.630001   53.389999   54.480000   705100.0"
      ]
     },
     "execution_count": 4,
     "metadata": {},
     "output_type": "execute_result"
    }
   ],
   "source": [
    "df.tail()"
   ]
  },
  {
   "cell_type": "code",
   "execution_count": 5,
   "metadata": {},
   "outputs": [
    {
     "data": {
      "text/html": [
       "<div>\n",
       "<style scoped>\n",
       "    .dataframe tbody tr th:only-of-type {\n",
       "        vertical-align: middle;\n",
       "    }\n",
       "\n",
       "    .dataframe tbody tr th {\n",
       "        vertical-align: top;\n",
       "    }\n",
       "\n",
       "    .dataframe thead th {\n",
       "        text-align: right;\n",
       "    }\n",
       "</style>\n",
       "<table border=\"1\" class=\"dataframe\">\n",
       "  <thead>\n",
       "    <tr style=\"text-align: right;\">\n",
       "      <th></th>\n",
       "      <th>open</th>\n",
       "      <th>close</th>\n",
       "      <th>low</th>\n",
       "      <th>high</th>\n",
       "      <th>volume</th>\n",
       "    </tr>\n",
       "  </thead>\n",
       "  <tbody>\n",
       "    <tr>\n",
       "      <th>count</th>\n",
       "      <td>851264.000000</td>\n",
       "      <td>851264.000000</td>\n",
       "      <td>851264.000000</td>\n",
       "      <td>851264.000000</td>\n",
       "      <td>8.512640e+05</td>\n",
       "    </tr>\n",
       "    <tr>\n",
       "      <th>mean</th>\n",
       "      <td>64.993618</td>\n",
       "      <td>65.011913</td>\n",
       "      <td>64.336541</td>\n",
       "      <td>65.639748</td>\n",
       "      <td>5.415113e+06</td>\n",
       "    </tr>\n",
       "    <tr>\n",
       "      <th>std</th>\n",
       "      <td>75.203893</td>\n",
       "      <td>75.201216</td>\n",
       "      <td>74.459518</td>\n",
       "      <td>75.906861</td>\n",
       "      <td>1.249468e+07</td>\n",
       "    </tr>\n",
       "    <tr>\n",
       "      <th>min</th>\n",
       "      <td>1.660000</td>\n",
       "      <td>1.590000</td>\n",
       "      <td>1.500000</td>\n",
       "      <td>1.810000</td>\n",
       "      <td>0.000000e+00</td>\n",
       "    </tr>\n",
       "    <tr>\n",
       "      <th>25%</th>\n",
       "      <td>31.270000</td>\n",
       "      <td>31.292776</td>\n",
       "      <td>30.940001</td>\n",
       "      <td>31.620001</td>\n",
       "      <td>1.221500e+06</td>\n",
       "    </tr>\n",
       "    <tr>\n",
       "      <th>50%</th>\n",
       "      <td>48.459999</td>\n",
       "      <td>48.480000</td>\n",
       "      <td>47.970001</td>\n",
       "      <td>48.959999</td>\n",
       "      <td>2.476250e+06</td>\n",
       "    </tr>\n",
       "    <tr>\n",
       "      <th>75%</th>\n",
       "      <td>75.120003</td>\n",
       "      <td>75.139999</td>\n",
       "      <td>74.400002</td>\n",
       "      <td>75.849998</td>\n",
       "      <td>5.222500e+06</td>\n",
       "    </tr>\n",
       "    <tr>\n",
       "      <th>max</th>\n",
       "      <td>1584.439941</td>\n",
       "      <td>1578.130005</td>\n",
       "      <td>1549.939941</td>\n",
       "      <td>1600.930054</td>\n",
       "      <td>8.596434e+08</td>\n",
       "    </tr>\n",
       "  </tbody>\n",
       "</table>\n",
       "</div>"
      ],
      "text/plain": [
       "                open          close            low           high  \\\n",
       "count  851264.000000  851264.000000  851264.000000  851264.000000   \n",
       "mean       64.993618      65.011913      64.336541      65.639748   \n",
       "std        75.203893      75.201216      74.459518      75.906861   \n",
       "min         1.660000       1.590000       1.500000       1.810000   \n",
       "25%        31.270000      31.292776      30.940001      31.620001   \n",
       "50%        48.459999      48.480000      47.970001      48.959999   \n",
       "75%        75.120003      75.139999      74.400002      75.849998   \n",
       "max      1584.439941    1578.130005    1549.939941    1600.930054   \n",
       "\n",
       "             volume  \n",
       "count  8.512640e+05  \n",
       "mean   5.415113e+06  \n",
       "std    1.249468e+07  \n",
       "min    0.000000e+00  \n",
       "25%    1.221500e+06  \n",
       "50%    2.476250e+06  \n",
       "75%    5.222500e+06  \n",
       "max    8.596434e+08  "
      ]
     },
     "execution_count": 5,
     "metadata": {},
     "output_type": "execute_result"
    }
   ],
   "source": [
    "df.describe()"
   ]
  },
  {
   "cell_type": "code",
   "execution_count": 6,
   "metadata": {},
   "outputs": [
    {
     "data": {
      "image/png": "[encoded data removed]",
      "text/plain": [
       "<Figure size 1080x360 with 2 Axes>"
      ]
     },
     "metadata": {
      "needs_background": "light"
     },
     "output_type": "display_data"
    }
   ],
   "source": [
    "plt.figure(figsize=(15, 5));\n",
    "plt.subplot(1,2,1);\n",
    "plt.plot(df[df.symbol == 'EQIX'].open.values, color='red', label='open')\n",
    "plt.plot(df[df.symbol == 'EQIX'].close.values, color='green', label='close')\n",
    "plt.plot(df[df.symbol == 'EQIX'].low.values, color='blue', label='low')\n",
    "plt.plot(df[df.symbol == 'EQIX'].high.values, color='black', label='high')\n",
    "plt.title('stock price')\n",
    "plt.xlabel('time [days]')\n",
    "plt.ylabel('price')\n",
    "plt.legend(loc='best')\n",
    "#plt.show()\n",
    "\n",
    "plt.subplot(1,2,2);\n",
    "plt.plot(df[df.symbol == 'EQIX'].volume.values, color='black', label='volume')\n",
    "plt.title('stock volume')\n",
    "plt.xlabel('time [days]')\n",
    "plt.ylabel('volume')\n",
    "plt.legend(loc='best');"
   ]
  },
  {
   "cell_type": "markdown",
   "metadata": {},
   "source": [
    "# 3. Manipulate data \n",
    "- choose a specific stock\n",
    "- drop feature: volume\n",
    "- normalize stock data\n",
    "- create train and test data sets"
   ]
  },
  {
   "cell_type": "code",
   "execution_count": 7,
   "metadata": {},
   "outputs": [],
   "source": [
    "def feature_normalize(train):\n",
    "    train_norm = train.apply(lambda x: (x - np.min(x)) / (np.max(x) - np.min(x)))  #標準化(介於0~1之間)\n",
    "    return train_norm"
   ]
  },
  {
   "cell_type": "code",
   "execution_count": 8,
   "metadata": {},
   "outputs": [],
   "source": [
    "## 很重要  切割視窗\n",
    "def create_segments_and_labels(df, time_steps, step):#, label_name):\n",
    "    \"\"\"\n",
    "    This function receives a dataframe and returns the reshaped segments\n",
    "    of x,y,z acceleration as well as the corresponding labels\n",
    "    Args:\n",
    "        df: Dataframe in the expected format\n",
    "        time_steps: Integer value of the length of a segment that is created\n",
    "    Returns:\n",
    "        reshaped_segments\n",
    "        labels:\n",
    "    \"\"\"\n",
    "\n",
    "#feature 有四個\n",
    "    N_FEATURES = 4\n",
    "#選擇測試切出20%\n",
    "    test_set_size_percentage = 20\n",
    "    segments = []\n",
    "    labels = []\n",
    "    \n",
    "#     data_raw = df.as_matrix()\n",
    "#創造時間窗，將所有選擇特徵一起切割視窗\n",
    "    for i in range(0, len(df) - time_steps, step):#\n",
    "        segments.append(df.values[i: i + time_steps])\n",
    "#以當期四種特徵預測下一期收盤價\n",
    "        rate = (df.open.values[i + time_steps]-df.open.values[i + time_steps-1])/df.open.values[i + time_steps-1]\n",
    "        temp = rate\n",
    "        if temp < 0:\n",
    "            if temp <= -0.2:\n",
    "                label =0\n",
    "            elif temp <= -0.1:\n",
    "                label =1\n",
    "            elif temp < 0:\n",
    "                label =2\n",
    "        else:\n",
    "            if temp == 0:\n",
    "                label =3\n",
    "            elif temp <= 0.1:\n",
    "                label =4\n",
    "            elif temp <= 0.2:\n",
    "                label =5                \n",
    "            elif temp >0.2:\n",
    "                label =6              \n",
    "        labels.append([label])\n",
    "    test_set_size = np.round(test_set_size_percentage/100*np.asarray(segments).shape[0])\n",
    "    train_set_size = int(np.asarray(segments).shape[0] - (test_set_size));  \n",
    "    print(train_set_size)\n",
    "#     segments = np.array(segments);\n",
    "    reshaped_segments_train = np.asarray(segments[:train_set_size], dtype= np.float32).reshape(-1, time_steps, N_FEATURES)\n",
    "    reshaped_segments_test = np.asarray(segments[train_set_size:], dtype= np.float32).reshape(-1, time_steps, N_FEATURES)\n",
    "    labels_train = np.asarray(labels[:train_set_size])\n",
    "    labels_test = np.asarray(labels[train_set_size:])\n",
    "#以訓練資料占比分割訓練測試集，並以視窗最後一筆資料當作預測值\n",
    "#     x_train = segments[:train_set_size,:,:]#(1394, 19, 4)\n",
    "#     y_train = lables[:train_set_size,-1,:]#(1394, 4)\n",
    "#     x_valid = data[train_set_size:train_set_size+valid_set_size,:-1,:]\n",
    "#     y_valid = data[train_set_size:train_set_size+valid_set_size,-1,:]\n",
    "#     x_test = segments[train_set_size:,:-1,:]\n",
    "#     y_test = segments[train_set_size:,-1,:]    \n",
    "    return reshaped_segments_train, labels_train, reshaped_segments_test,labels_test\n",
    "#     return [x_train, y_train, x_valid, y_valid, x_test, y_test]\n"
   ]
  },
  {
   "cell_type": "code",
   "execution_count": 9,
   "metadata": {},
   "outputs": [
    {
     "name": "stdout",
     "output_type": "stream",
     "text": [
      "df_stock.columns.values =  ['open', 'close', 'low', 'high']\n",
      "279\n",
      "x_train.shape =  (279, 20, 4)\n",
      "y_train.shape =  (279, 1)\n",
      "x_test.shape =  (70, 20, 4)\n",
      "y_test.shape =  (70, 1)\n",
      "y_train_oneshot:(279, 7)\n",
      "y_test_oneshot:(70, 7)\n"
     ]
    }
   ],
   "source": [
    "# choose one stock & drop volume\n",
    "df_stock = df[df.symbol == 'EQIX'].copy()\n",
    "df_stock.drop(['symbol'],1,inplace=True)\n",
    "df_stock.drop(['volume'],1,inplace=True)\n",
    "\n",
    "cols = list(df_stock.columns.values)\n",
    "print('df_stock.columns.values = ', cols)\n",
    "\n",
    "# normalize stock\n",
    "df_stock_norm = df_stock.copy()\n",
    "df_stock_norm = feature_normalize(df_stock_norm)\n",
    "\n",
    "# create train, test data\n",
    "time_steps = 20 # choose sequence length\n",
    "step = 5\n",
    "x_train, y_train, x_test, y_test = create_segments_and_labels(df_stock_norm, time_steps, step)\n",
    "print('x_train.shape = ',x_train.shape)\n",
    "print('y_train.shape = ', y_train.shape)\n",
    "print('x_test.shape = ',x_test.shape)\n",
    "print('y_test.shape = ', y_test.shape)\n",
    "num_classes = 7\n",
    "y_train_oneshot = np_utils.to_categorical(y_train, num_classes)\n",
    "print(f\"y_train_oneshot:{y_train_oneshot.shape}\")\n",
    "y_test_oneshot = np_utils.to_categorical(y_test, num_classes)\n",
    "print(f\"y_test_oneshot:{y_test_oneshot.shape}\")"
   ]
  },
  {
   "cell_type": "code",
   "execution_count": 10,
   "metadata": {},
   "outputs": [
    {
     "data": {
      "image/png": "[encoded data removed]",
      "text/plain": [
       "<Figure size 432x288 with 1 Axes>"
      ]
     },
     "metadata": {
      "needs_background": "light"
     },
     "output_type": "display_data"
    }
   ],
   "source": [
    "plt.plot(df_stock_norm.open.values, color='red', label='open')\n",
    "plt.plot(df_stock_norm.close.values, color='green', label='close')\n",
    "plt.plot(df_stock_norm.low.values, color='blue', label='low')\n",
    "plt.plot(df_stock_norm.high.values, color='black', label='high')\n",
    "#plt.plot(df_stock_norm.volume.values, color='gray', label='volume')\n",
    "plt.title('stock')\n",
    "plt.xlabel('time [days]')\n",
    "plt.ylabel('normalized price/volume')\n",
    "plt.legend(loc='best')\n",
    "plt.show()"
   ]
  },
  {
   "cell_type": "code",
   "execution_count": 11,
   "metadata": {},
   "outputs": [
    {
     "name": "stdout",
     "output_type": "stream",
     "text": [
      "x_train_reshape.shape:(279, 80)\n",
      "x_test_reshape.shape:(70, 80)\n"
     ]
    }
   ],
   "source": [
    "num_time_periods, num_sensors = x_train.shape[1], x_train.shape[2]\n",
    "input_shape = (num_time_periods*num_sensors)   ## 80*3  每一筆資料 80(時間窗) 3個變數( xyz) \n",
    "x_train_reshape = x_train.reshape(x_train.shape[0], input_shape).astype('float32')\n",
    "print(f\"x_train_reshape.shape:{x_train_reshape.shape}\")\n",
    "x_test_reshape = x_test.reshape(x_test.shape[0], input_shape).astype('float32')\n",
    "print(f\"x_test_reshape.shape:{x_test_reshape.shape}\")"
   ]
  },
  {
   "cell_type": "markdown",
   "metadata": {},
   "source": [
    "# RNN"
   ]
  },
  {
   "cell_type": "code",
   "execution_count": 14,
   "metadata": {},
   "outputs": [],
   "source": [
    "#一對一模型\n",
    "from keras.models import Sequential\n",
    "from keras.layers import Dense, Dropout, Activation, Flatten, LSTM, TimeDistributed, RepeatVector\n",
    "from keras.layers import SimpleRNN, Activation, Dense, RNN\n",
    "from keras.layers.normalization import BatchNormalization\n",
    "from keras.optimizers import Adam\n",
    "from keras.callbacks import EarlyStopping, ModelCheckpoint\n",
    "import matplotlib.pyplot as plt\n",
    "%matplotlib inline\n",
    "from keras.callbacks import ReduceLROnPlateau"
   ]
  },
  {
   "cell_type": "code",
   "execution_count": 15,
   "metadata": {},
   "outputs": [],
   "source": [
    "learning_rate_function = ReduceLROnPlateau(monitor='val_acc', \n",
    "                                            patience=3, #準確率重複3次就要減少\n",
    "                                            verbose=1, \n",
    "                                            factor=0.5, #準確率乘上factor設成下一個learning_rate\n",
    "                                            min_lr=0.00001) "
   ]
  },
  {
   "cell_type": "code",
   "execution_count": 16,
   "metadata": {},
   "outputs": [
    {
     "name": "stdout",
     "output_type": "stream",
     "text": [
      "WARNING:tensorflow:From d:\\programfiles\\python37\\lib\\site-packages\\tensorflow\\python\\framework\\op_def_library.py:263: colocate_with (from tensorflow.python.framework.ops) is deprecated and will be removed in a future version.\n",
      "Instructions for updating:\n",
      "Colocations handled automatically by placer.\n",
      "WARNING:tensorflow:From d:\\programfiles\\python37\\lib\\site-packages\\keras\\backend\\tensorflow_backend.py:3445: calling dropout (from tensorflow.python.ops.nn_ops) with keep_prob is deprecated and will be removed in a future version.\n",
      "Instructions for updating:\n",
      "Please use `rate` instead of `keep_prob`. Rate should be set to `rate = 1 - keep_prob`.\n",
      "_________________________________________________________________\n",
      "Layer (type)                 Output Shape              Param #   \n",
      "=================================================================\n",
      "simple_rnn_1 (SimpleRNN)     (None, 128)               17024     \n",
      "_________________________________________________________________\n",
      "dropout_1 (Dropout)          (None, 128)               0         \n",
      "_________________________________________________________________\n",
      "dense_1 (Dense)              (None, 64)                8256      \n",
      "_________________________________________________________________\n",
      "dropout_2 (Dropout)          (None, 64)                0         \n",
      "_________________________________________________________________\n",
      "dense_2 (Dense)              (None, 16)                1040      \n",
      "_________________________________________________________________\n",
      "dropout_3 (Dropout)          (None, 16)                0         \n",
      "_________________________________________________________________\n",
      "dense_3 (Dense)              (None, 7)                 119       \n",
      "=================================================================\n",
      "Total params: 26,439\n",
      "Trainable params: 26,439\n",
      "Non-trainable params: 0\n",
      "_________________________________________________________________\n",
      "\n",
      "--- Fit the model ---\n",
      "\n",
      "WARNING:tensorflow:From d:\\programfiles\\python37\\lib\\site-packages\\tensorflow\\python\\ops\\math_ops.py:3066: to_int32 (from tensorflow.python.ops.math_ops) is deprecated and will be removed in a future version.\n",
      "Instructions for updating:\n",
      "Use tf.cast instead.\n",
      "Train on 251 samples, validate on 28 samples\n",
      "Epoch 1/100\n",
      " - 1s - loss: 1.3220 - acc: 0.4422 - val_loss: 0.7458 - val_acc: 0.6071\n",
      "Epoch 2/100\n",
      " - 0s - loss: 1.1528 - acc: 0.4462 - val_loss: 0.7866 - val_acc: 0.6071\n",
      "Epoch 3/100\n",
      " - 0s - loss: 1.1144 - acc: 0.4223 - val_loss: 0.7446 - val_acc: 0.6071\n",
      "Epoch 4/100\n",
      " - 0s - loss: 1.0753 - acc: 0.4900 - val_loss: 0.7736 - val_acc: 0.3929\n",
      "Epoch 5/100\n",
      " - 0s - loss: 1.1215 - acc: 0.4462 - val_loss: 0.7263 - val_acc: 0.3929\n",
      "Epoch 6/100\n",
      " - 0s - loss: 1.1283 - acc: 0.4422 - val_loss: 0.7674 - val_acc: 0.6071\n",
      "Epoch 7/100\n",
      " - 0s - loss: 1.1131 - acc: 0.4900 - val_loss: 0.7225 - val_acc: 0.3929\n",
      "Epoch 8/100\n",
      " - 0s - loss: 1.0206 - acc: 0.4542 - val_loss: 0.7229 - val_acc: 0.5357\n",
      "Epoch 9/100\n",
      " - 0s - loss: 1.0614 - acc: 0.4542 - val_loss: 0.7132 - val_acc: 0.4286\n",
      "Epoch 10/100\n",
      " - 0s - loss: 1.0402 - acc: 0.4462 - val_loss: 0.7439 - val_acc: 0.3929\n",
      "Epoch 11/100\n",
      " - 0s - loss: 1.0410 - acc: 0.4582 - val_loss: 0.6949 - val_acc: 0.6071\n",
      "Epoch 12/100\n",
      " - 0s - loss: 1.0319 - acc: 0.4701 - val_loss: 0.7252 - val_acc: 0.3929\n",
      "Epoch 13/100\n",
      " - 0s - loss: 1.0356 - acc: 0.4542 - val_loss: 0.6853 - val_acc: 0.6071\n",
      "Epoch 14/100\n",
      " - 0s - loss: 1.0116 - acc: 0.5060 - val_loss: 0.7250 - val_acc: 0.3929\n",
      "Epoch 15/100\n",
      " - 0s - loss: 1.0291 - acc: 0.4422 - val_loss: 0.7044 - val_acc: 0.5000\n",
      "Epoch 16/100\n",
      " - 0s - loss: 1.0366 - acc: 0.4940 - val_loss: 0.7352 - val_acc: 0.3929\n",
      "Epoch 17/100\n",
      " - 0s - loss: 0.9993 - acc: 0.4940 - val_loss: 0.7135 - val_acc: 0.3929\n",
      "Epoch 18/100\n",
      " - 0s - loss: 1.0078 - acc: 0.4821 - val_loss: 0.6865 - val_acc: 0.6071\n",
      "Epoch 19/100\n",
      " - 0s - loss: 1.0049 - acc: 0.4064 - val_loss: 0.7007 - val_acc: 0.6071\n",
      "Epoch 20/100\n",
      " - 0s - loss: 1.0774 - acc: 0.4940 - val_loss: 0.6984 - val_acc: 0.4643\n",
      "Epoch 21/100\n",
      " - 0s - loss: 1.0377 - acc: 0.4582 - val_loss: 0.7072 - val_acc: 0.3929\n",
      "Epoch 22/100\n",
      " - 0s - loss: 1.0103 - acc: 0.4422 - val_loss: 0.7347 - val_acc: 0.3929\n",
      "Epoch 23/100\n",
      " - 0s - loss: 1.1335 - acc: 0.3865 - val_loss: 0.7236 - val_acc: 0.3929\n",
      "Epoch 24/100\n",
      " - 0s - loss: 1.0487 - acc: 0.4343 - val_loss: 0.7055 - val_acc: 0.3929\n",
      "Epoch 25/100\n",
      " - 0s - loss: 1.0153 - acc: 0.5060 - val_loss: 0.7144 - val_acc: 0.3929\n",
      "Epoch 26/100\n",
      " - 0s - loss: 1.0180 - acc: 0.4542 - val_loss: 0.7012 - val_acc: 0.3929\n",
      "Epoch 27/100\n",
      " - 0s - loss: 1.0454 - acc: 0.4502 - val_loss: 0.7244 - val_acc: 0.3929\n",
      "Epoch 28/100\n",
      " - 0s - loss: 1.0231 - acc: 0.4900 - val_loss: 0.6984 - val_acc: 0.6071\n",
      "Epoch 29/100\n",
      " - 0s - loss: 1.0276 - acc: 0.4582 - val_loss: 0.6868 - val_acc: 0.6071\n",
      "Epoch 30/100\n",
      " - 0s - loss: 1.0359 - acc: 0.4940 - val_loss: 0.6938 - val_acc: 0.6071\n",
      "Epoch 31/100\n",
      " - 0s - loss: 0.9902 - acc: 0.5100 - val_loss: 0.6871 - val_acc: 0.6071\n",
      "Epoch 32/100\n",
      " - 0s - loss: 1.0151 - acc: 0.4701 - val_loss: 0.7102 - val_acc: 0.3929\n",
      "Epoch 33/100\n",
      " - 0s - loss: 0.9952 - acc: 0.5020 - val_loss: 0.7089 - val_acc: 0.3929\n",
      "Epoch 34/100\n",
      " - 0s - loss: 0.9733 - acc: 0.5219 - val_loss: 0.7033 - val_acc: 0.3929\n",
      "Epoch 35/100\n",
      " - 0s - loss: 0.9942 - acc: 0.4900 - val_loss: 0.7006 - val_acc: 0.3929\n",
      "Epoch 36/100\n",
      " - 0s - loss: 0.9712 - acc: 0.5219 - val_loss: 0.6962 - val_acc: 0.4643\n",
      "Epoch 37/100\n",
      " - 0s - loss: 1.0000 - acc: 0.4462 - val_loss: 0.7078 - val_acc: 0.3929\n",
      "Epoch 38/100\n",
      " - 0s - loss: 0.9869 - acc: 0.4622 - val_loss: 0.6865 - val_acc: 0.6071\n",
      "Epoch 39/100\n",
      " - 0s - loss: 0.9812 - acc: 0.5020 - val_loss: 0.6969 - val_acc: 0.4286\n",
      "Epoch 40/100\n",
      " - 0s - loss: 0.9893 - acc: 0.5060 - val_loss: 0.7042 - val_acc: 0.3929\n",
      "Epoch 41/100\n",
      " - 0s - loss: 0.9803 - acc: 0.5020 - val_loss: 0.6994 - val_acc: 0.3929\n",
      "Epoch 42/100\n",
      " - 0s - loss: 0.9835 - acc: 0.5020 - val_loss: 0.7097 - val_acc: 0.3929\n",
      "Epoch 43/100\n",
      " - 0s - loss: 1.0085 - acc: 0.4622 - val_loss: 0.7136 - val_acc: 0.3929\n",
      "Epoch 44/100\n",
      " - 0s - loss: 0.9788 - acc: 0.4542 - val_loss: 0.6998 - val_acc: 0.3929\n",
      "Epoch 45/100\n",
      " - 0s - loss: 0.9775 - acc: 0.5060 - val_loss: 0.7041 - val_acc: 0.3929\n",
      "Epoch 46/100\n",
      " - 0s - loss: 0.9982 - acc: 0.5060 - val_loss: 0.7275 - val_acc: 0.3929\n",
      "Epoch 47/100\n",
      " - 0s - loss: 0.9672 - acc: 0.5219 - val_loss: 0.7370 - val_acc: 0.3929\n",
      "Epoch 48/100\n",
      " - 0s - loss: 0.9695 - acc: 0.5060 - val_loss: 0.6937 - val_acc: 0.6071\n",
      "Epoch 49/100\n",
      " - 0s - loss: 0.9746 - acc: 0.5498 - val_loss: 0.7095 - val_acc: 0.3929\n",
      "Epoch 50/100\n",
      " - 0s - loss: 0.9847 - acc: 0.5100 - val_loss: 0.7291 - val_acc: 0.3929\n",
      "Epoch 51/100\n",
      " - 0s - loss: 0.9709 - acc: 0.5179 - val_loss: 0.7132 - val_acc: 0.3929\n",
      "Epoch 52/100\n",
      " - 0s - loss: 0.9770 - acc: 0.4303 - val_loss: 0.6983 - val_acc: 0.3929\n",
      "Epoch 53/100\n",
      " - 0s - loss: 1.0007 - acc: 0.4781 - val_loss: 0.7089 - val_acc: 0.3929\n",
      "Epoch 54/100\n",
      " - 0s - loss: 0.9922 - acc: 0.4861 - val_loss: 0.6978 - val_acc: 0.3929\n",
      "Epoch 55/100\n",
      " - 0s - loss: 0.9640 - acc: 0.4462 - val_loss: 0.7066 - val_acc: 0.3929\n",
      "Epoch 56/100\n",
      " - 0s - loss: 0.9734 - acc: 0.4622 - val_loss: 0.6939 - val_acc: 0.6071\n",
      "Epoch 57/100\n",
      " - 0s - loss: 0.9659 - acc: 0.4781 - val_loss: 0.6978 - val_acc: 0.3929\n",
      "Epoch 58/100\n",
      " - 0s - loss: 0.9838 - acc: 0.5259 - val_loss: 0.7361 - val_acc: 0.3929\n",
      "Epoch 59/100\n",
      " - 0s - loss: 0.9630 - acc: 0.5100 - val_loss: 0.7214 - val_acc: 0.3929\n",
      "Epoch 60/100\n",
      " - 0s - loss: 0.9772 - acc: 0.4701 - val_loss: 0.6942 - val_acc: 0.4643\n",
      "Epoch 61/100\n",
      " - 0s - loss: 0.9736 - acc: 0.5299 - val_loss: 0.7223 - val_acc: 0.3929\n",
      "Epoch 62/100\n",
      " - 0s - loss: 0.9769 - acc: 0.5020 - val_loss: 0.7469 - val_acc: 0.3929\n",
      "Epoch 63/100\n",
      " - 0s - loss: 0.9879 - acc: 0.4940 - val_loss: 0.7067 - val_acc: 0.3929\n",
      "Epoch 64/100\n",
      " - 0s - loss: 0.9803 - acc: 0.4741 - val_loss: 0.6988 - val_acc: 0.3929\n",
      "Epoch 65/100\n",
      " - 0s - loss: 0.9733 - acc: 0.4582 - val_loss: 0.6873 - val_acc: 0.6071\n",
      "Epoch 66/100\n",
      " - 0s - loss: 0.9551 - acc: 0.5339 - val_loss: 0.7149 - val_acc: 0.3929\n",
      "Epoch 67/100\n",
      " - 0s - loss: 0.9726 - acc: 0.4900 - val_loss: 0.7234 - val_acc: 0.3929\n",
      "Epoch 68/100\n",
      " - 0s - loss: 0.9818 - acc: 0.5139 - val_loss: 0.7153 - val_acc: 0.3929\n",
      "Epoch 69/100\n",
      " - 0s - loss: 0.9787 - acc: 0.4980 - val_loss: 0.7159 - val_acc: 0.3929\n",
      "Epoch 70/100\n",
      " - 0s - loss: 0.9504 - acc: 0.4940 - val_loss: 0.6986 - val_acc: 0.3929\n",
      "Epoch 71/100\n",
      " - 0s - loss: 1.0131 - acc: 0.5299 - val_loss: 0.7012 - val_acc: 0.6071\n"
     ]
    },
    {
     "name": "stdout",
     "output_type": "stream",
     "text": [
      "Epoch 72/100\n",
      " - 0s - loss: 1.0638 - acc: 0.4940 - val_loss: 0.7049 - val_acc: 0.6071\n",
      "Epoch 73/100\n",
      " - 0s - loss: 1.0497 - acc: 0.4701 - val_loss: 0.7282 - val_acc: 0.3929\n",
      "Epoch 74/100\n",
      " - 0s - loss: 1.0395 - acc: 0.5139 - val_loss: 0.6900 - val_acc: 0.6071\n",
      "Epoch 75/100\n",
      " - 0s - loss: 1.0344 - acc: 0.5020 - val_loss: 0.7096 - val_acc: 0.3929\n",
      "Epoch 76/100\n",
      " - 0s - loss: 0.9801 - acc: 0.4861 - val_loss: 0.6874 - val_acc: 0.6071\n",
      "Epoch 77/100\n",
      " - 0s - loss: 1.0578 - acc: 0.4622 - val_loss: 0.7103 - val_acc: 0.4643\n",
      "Epoch 78/100\n",
      " - 0s - loss: 0.9660 - acc: 0.4940 - val_loss: 0.7082 - val_acc: 0.3929\n",
      "Epoch 79/100\n",
      " - 0s - loss: 1.0677 - acc: 0.4303 - val_loss: 0.7001 - val_acc: 0.6071\n",
      "Epoch 80/100\n",
      " - 0s - loss: 1.0061 - acc: 0.4900 - val_loss: 0.6889 - val_acc: 0.6071\n",
      "Epoch 81/100\n",
      " - 0s - loss: 1.0355 - acc: 0.4821 - val_loss: 0.6903 - val_acc: 0.6071\n",
      "Epoch 82/100\n",
      " - 0s - loss: 1.1020 - acc: 0.4900 - val_loss: 0.7225 - val_acc: 0.6071\n",
      "Epoch 83/100\n",
      " - 0s - loss: 0.9971 - acc: 0.4343 - val_loss: 0.7148 - val_acc: 0.6071\n",
      "Epoch 84/100\n",
      " - 0s - loss: 1.0464 - acc: 0.4622 - val_loss: 0.7396 - val_acc: 0.4643\n",
      "Epoch 85/100\n",
      " - 0s - loss: 0.9894 - acc: 0.4821 - val_loss: 0.7263 - val_acc: 0.3929\n",
      "Epoch 86/100\n",
      " - 0s - loss: 0.9918 - acc: 0.4741 - val_loss: 0.7048 - val_acc: 0.6071\n",
      "Epoch 87/100\n",
      " - 0s - loss: 1.0264 - acc: 0.4980 - val_loss: 0.7044 - val_acc: 0.6071\n",
      "Epoch 88/100\n",
      " - 0s - loss: 1.0287 - acc: 0.4861 - val_loss: 0.7192 - val_acc: 0.4643\n",
      "Epoch 89/100\n",
      " - 0s - loss: 0.9997 - acc: 0.4940 - val_loss: 0.7064 - val_acc: 0.3929\n",
      "Epoch 90/100\n",
      " - 0s - loss: 0.9884 - acc: 0.4821 - val_loss: 0.7029 - val_acc: 0.3929\n",
      "Epoch 91/100\n",
      " - 0s - loss: 0.9916 - acc: 0.4741 - val_loss: 0.6992 - val_acc: 0.5357\n",
      "Epoch 92/100\n",
      " - 0s - loss: 1.0247 - acc: 0.4781 - val_loss: 0.7415 - val_acc: 0.6071\n",
      "Epoch 93/100\n",
      " - 0s - loss: 1.0516 - acc: 0.4422 - val_loss: 0.7693 - val_acc: 0.6071\n",
      "Epoch 94/100\n",
      " - 0s - loss: 1.0788 - acc: 0.4821 - val_loss: 0.7201 - val_acc: 0.6071\n",
      "Epoch 95/100\n",
      " - 0s - loss: 1.0478 - acc: 0.4821 - val_loss: 0.7687 - val_acc: 0.6071\n",
      "Epoch 96/100\n",
      " - 0s - loss: 1.0672 - acc: 0.4821 - val_loss: 0.7490 - val_acc: 0.6071\n",
      "Epoch 97/100\n",
      " - 0s - loss: 1.0716 - acc: 0.4821 - val_loss: 0.7801 - val_acc: 0.6071\n",
      "Epoch 98/100\n",
      " - 0s - loss: 1.0489 - acc: 0.4821 - val_loss: 0.7423 - val_acc: 0.6071\n",
      "Epoch 99/100\n",
      " - 0s - loss: 1.0360 - acc: 0.4900 - val_loss: 0.7700 - val_acc: 0.6071\n",
      "Epoch 100/100\n",
      " - 0s - loss: 1.0295 - acc: 0.4781 - val_loss: 0.7406 - val_acc: 0.6071\n",
      "\n",
      "--- Learning curve of model training ---\n",
      "\n"
     ]
    }
   ],
   "source": [
    "model_rnn = Sequential()\n",
    "##  SimpleRNN  注意他的 input 格式!!(先變成三維，把第二維、三維放在這邊)\n",
    "model_rnn.add(SimpleRNN(units=128, input_shape=(x_train.shape[1], x_train.shape[2])))\n",
    "#units隱藏層神經元個數\n",
    "#model.add(SimpleRNN(128, input_shape = (1, 12), activation = 'relu'))\n",
    "\n",
    "model_rnn.add(Dropout(0.1))\n",
    "model_rnn.add(Dense(64, activation = 'relu'))\n",
    "model_rnn.add(Dropout(0.1))\n",
    "model_rnn.add(Dense(16, activation = 'relu'))#三層隱藏層\n",
    "model_rnn.add(Dropout(0.1))\n",
    "model_rnn.add(Dense(num_classes, activation='softmax'))\n",
    "#num_classes不能改\n",
    "model_rnn.compile(loss='categorical_crossentropy',\n",
    "                optimizer='adam', metrics=['accuracy'])\n",
    "model_rnn.summary()\n",
    "\n",
    "print(\"\\n--- Fit the model ---\\n\")\n",
    "\n",
    "train_history = model_rnn.fit(x=x_train, y= y_train_oneshot, validation_split=0.1, epochs=100, batch_size=10,verbose=2)#callbacks=[learning_rate_function], verbose=2)\n",
    "\n",
    "\n",
    "print(\"\\n--- Learning curve of model training ---\\n\")\n",
    "\n",
    "get_ipython().magic('matplotlib inline')\n",
    "## IPython有一組預先定義好的所謂的魔法函數（Magic Functions），你可以通過命令列的語法形式來訪問它們。\n"
   ]
  },
  {
   "cell_type": "code",
   "execution_count": 17,
   "metadata": {},
   "outputs": [
    {
     "data": {
      "image/png": "[encoded data removed]",
      "text/plain": [
       "<Figure size 432x288 with 1 Axes>"
      ]
     },
     "metadata": {
      "needs_background": "light"
     },
     "output_type": "display_data"
    },
    {
     "data": {
      "image/png": "[encoded data removed]",
      "text/plain": [
       "<Figure size 432x288 with 1 Axes>"
      ]
     },
     "metadata": {
      "needs_background": "light"
     },
     "output_type": "display_data"
    }
   ],
   "source": [
    "import matplotlib.pyplot as plt\n",
    "def show_train_history(train_history, train, validation):\n",
    "    plt.plot(train_history.history[train])\n",
    "    plt.plot(train_history.history[validation])\n",
    "    plt.title(\"Train History\")\n",
    "    plt.ylabel(train)\n",
    "    plt.xlabel('Epoch')\n",
    "    plt.show()\n",
    "\n",
    "show_train_history(train_history, \"acc\", \"val_acc\") ## 訓練正確率圖\n",
    "\n",
    "show_train_history(train_history, \"loss\", \"val_loss\") ## 訓練誤差圖\n"
   ]
  },
  {
   "cell_type": "code",
   "execution_count": 18,
   "metadata": {},
   "outputs": [
    {
     "name": "stdout",
     "output_type": "stream",
     "text": [
      "70/70 [==============================] - 0s 71us/step\n",
      "\n",
      "Accuracy on test data: 0.60\n",
      "\n",
      "Loss on test data: 0.73\n"
     ]
    },
    {
     "data": {
      "text/plain": [
       "[0.7318732789584569, 0.6000000017029898]"
      ]
     },
     "execution_count": 18,
     "metadata": {},
     "output_type": "execute_result"
    }
   ],
   "source": [
    "scoreRNN = model_rnn.evaluate(x_test, y_test_oneshot, verbose=1)\n",
    "\n",
    "\n",
    "print(\"\\nAccuracy on test data: %0.2f\" % scoreRNN[1])\n",
    "print(\"\\nLoss on test data: %0.2f\" % scoreRNN[0])\n",
    "scoreRNN"
   ]
  },
  {
   "cell_type": "code",
   "execution_count": 20,
   "metadata": {},
   "outputs": [],
   "source": [
    "def show_confusion_matrix(validations, predictions):\n",
    "    LABELS = 7\n",
    "    matrix = metrics.confusion_matrix(validations, predictions)\n",
    "    plt.figure(figsize=(6, 4))\n",
    "    sns.heatmap(matrix, cmap=\"coolwarm\",linecolor='white', linewidths=1, xticklabels='auto', yticklabels='auto', annot=True, fmt=\"d\")\n",
    "    plt.title(\"Confusion Matrix\")\n",
    "    plt.ylabel(\"True Label\")\n",
    "    plt.xlabel(\"Predicted Label\")\n",
    "    plt.show()"
   ]
  },
  {
   "cell_type": "code",
   "execution_count": 21,
   "metadata": {},
   "outputs": [
    {
     "data": {
      "image/png": "[encoded data removed]",
      "text/plain": [
       "<Figure size 432x288 with 2 Axes>"
      ]
     },
     "metadata": {
      "needs_background": "light"
     },
     "output_type": "display_data"
    },
    {
     "name": "stdout",
     "output_type": "stream",
     "text": [
      "\n",
      "--- Classification report for test data ---\n",
      "\n",
      "              precision    recall  f1-score   support\n",
      "\n",
      "           2       0.00      0.00      0.00        28\n",
      "           4       0.60      1.00      0.75        42\n",
      "\n",
      "    accuracy                           0.60        70\n",
      "   macro avg       0.30      0.50      0.37        70\n",
      "weighted avg       0.36      0.60      0.45        70\n",
      "\n"
     ]
    },
    {
     "name": "stderr",
     "output_type": "stream",
     "text": [
      "d:\\programfiles\\python37\\lib\\site-packages\\sklearn\\metrics\\_classification.py:1268: UndefinedMetricWarning: Precision and F-score are ill-defined and being set to 0.0 in labels with no predicted samples. Use `zero_division` parameter to control this behavior.\n",
      "  _warn_prf(average, modifier, msg_start, len(result))\n"
     ]
    }
   ],
   "source": [
    "# results = model.predict_classes(x_test)\n",
    "\n",
    "# from sklearn.metrics import confusion_matrix\n",
    "# cm = confusion_matrix(y_test, results)\n",
    "# cm\n",
    "# Take the class with the highest probability from the test predictions\n",
    "y_pred_test = model_rnn.predict(x_test)\n",
    "\n",
    "max_y_pred_test = np.argmax(y_pred_test, axis=1)\n",
    "max_y_test = np.argmax(y_test_oneshot, axis=1)\n",
    "\n",
    "show_confusion_matrix(max_y_test, max_y_pred_test)\n",
    "\n",
    "# %%\n",
    "\n",
    "print(\"\\n--- Classification report for test data ---\\n\")\n",
    "\n",
    "print(classification_report(max_y_test, max_y_pred_test))\n"
   ]
  }
 ],
 "metadata": {
  "kernelspec": {
   "display_name": "Python 3",
   "language": "python",
   "name": "python3"
  },
  "language_info": {
   "codemirror_mode": {
    "name": "ipython",
    "version": 3
   },
   "file_extension": ".py",
   "mimetype": "text/x-python",
   "name": "python",
   "nbconvert_exporter": "python",
   "pygments_lexer": "ipython3",
   "version": "3.7.6"
  }
 },
 "nbformat": 4,
 "nbformat_minor": 2
}
