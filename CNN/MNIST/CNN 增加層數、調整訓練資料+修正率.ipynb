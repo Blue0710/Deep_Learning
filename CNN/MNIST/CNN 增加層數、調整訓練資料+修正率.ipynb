{
 "cells": [
  {
   "cell_type": "code",
   "execution_count": 1,
   "metadata": {},
   "outputs": [
    {
     "name": "stderr",
     "output_type": "stream",
     "text": [
      "Using TensorFlow backend.\n",
      "d:\\programfiles\\python37\\lib\\site-packages\\tensorflow\\python\\framework\\dtypes.py:526: FutureWarning: Passing (type, 1) or '1type' as a synonym of type is deprecated; in a future version of numpy, it will be understood as (type, (1,)) / '(1,)type'.\n",
      "  _np_qint8 = np.dtype([(\"qint8\", np.int8, 1)])\n",
      "d:\\programfiles\\python37\\lib\\site-packages\\tensorflow\\python\\framework\\dtypes.py:527: FutureWarning: Passing (type, 1) or '1type' as a synonym of type is deprecated; in a future version of numpy, it will be understood as (type, (1,)) / '(1,)type'.\n",
      "  _np_quint8 = np.dtype([(\"quint8\", np.uint8, 1)])\n",
      "d:\\programfiles\\python37\\lib\\site-packages\\tensorflow\\python\\framework\\dtypes.py:528: FutureWarning: Passing (type, 1) or '1type' as a synonym of type is deprecated; in a future version of numpy, it will be understood as (type, (1,)) / '(1,)type'.\n",
      "  _np_qint16 = np.dtype([(\"qint16\", np.int16, 1)])\n",
      "d:\\programfiles\\python37\\lib\\site-packages\\tensorflow\\python\\framework\\dtypes.py:529: FutureWarning: Passing (type, 1) or '1type' as a synonym of type is deprecated; in a future version of numpy, it will be understood as (type, (1,)) / '(1,)type'.\n",
      "  _np_quint16 = np.dtype([(\"quint16\", np.uint16, 1)])\n",
      "d:\\programfiles\\python37\\lib\\site-packages\\tensorflow\\python\\framework\\dtypes.py:530: FutureWarning: Passing (type, 1) or '1type' as a synonym of type is deprecated; in a future version of numpy, it will be understood as (type, (1,)) / '(1,)type'.\n",
      "  _np_qint32 = np.dtype([(\"qint32\", np.int32, 1)])\n",
      "d:\\programfiles\\python37\\lib\\site-packages\\tensorflow\\python\\framework\\dtypes.py:535: FutureWarning: Passing (type, 1) or '1type' as a synonym of type is deprecated; in a future version of numpy, it will be understood as (type, (1,)) / '(1,)type'.\n",
      "  np_resource = np.dtype([(\"resource\", np.ubyte, 1)])\n"
     ]
    },
    {
     "name": "stdout",
     "output_type": "stream",
     "text": [
      "(48000, 28, 28, 1)\n",
      "(10000, 28, 28, 1)\n"
     ]
    },
    {
     "data": {
      "image/png": "[encoded data removed]",
      "text/plain": [
       "<Figure size 288x288 with 9 Axes>"
      ]
     },
     "metadata": {
      "needs_background": "light"
     },
     "output_type": "display_data"
    }
   ],
   "source": [
    "\n",
    "# coding: utf-8\n",
    "\n",
    "get_ipython().magic('matplotlib inline')\n",
    "\n",
    "\n",
    "import numpy as np\n",
    "import matplotlib.pyplot as plt\n",
    "from keras.datasets import mnist\n",
    "\n",
    "np.random.seed(25)\n",
    "\n",
    "\n",
    "# 下載 mnist 資料\n",
    "(x_train, y_train), (x_test, y_test) = mnist.load_data()\n",
    "# x_train: trainning data\n",
    "# y_train: labels of each trainning data\n",
    "# x_test: testing data\n",
    "# y_test: labels of each testing data\n",
    "\n",
    "plt.figure(figsize=(4,4))\n",
    "for i in range(0, 9):\n",
    "    plt.subplot(3, 3, i+1)\n",
    "    plt.imshow(x_train[i], cmap=\"gray\")\n",
    "    plt.title(\"Class %s\" %y_train[i])\n",
    "\n",
    "\n",
    "# add channel  開始為 CNN 準備  矩陣要變成 (資料筆數, 長, 寬, 黑白=1/彩色=3)\n",
    "x_train = np.expand_dims(x_train, axis=3)\n",
    "x_test = np.expand_dims(x_test, axis=3)\n",
    "\n",
    "## 手動將 mnist 的訓練資料依 80%/20% 的比例分做訓練及驗證資料\n",
    "from sklearn.model_selection import train_test_split\n",
    "x_train, x_val, y_train, y_val = train_test_split(x_train, y_train, test_size=0.2, random_state=25) \n",
    "#手動切出驗證集，test_size = 0.2，驗證集2成，隨機種子隨機抽\n",
    "#No_shuffle\n",
    "\n",
    "print(x_train.shape)\n",
    "print(x_test.shape)\n",
    "x_train_normalized = x_train / 255\n",
    "x_val_normalized = x_val / 255\n",
    "x_test_normalized = x_test / 255\n",
    "\n",
    "def show_train_history(train_history, train, validation):\n",
    "    plt.plot(train_history.history[train])\n",
    "    plt.plot(train_history.history[validation])\n",
    "    plt.title(\"Train History\")\n",
    "    plt.ylabel(train)\n",
    "    plt.xlabel('Epoch')\n",
    "    plt.show()\n",
    "\n"
   ]
  },
  {
   "cell_type": "code",
   "execution_count": 2,
   "metadata": {},
   "outputs": [
    {
     "name": "stdout",
     "output_type": "stream",
     "text": [
      "WARNING:tensorflow:From d:\\programfiles\\python37\\lib\\site-packages\\tensorflow\\python\\framework\\op_def_library.py:263: colocate_with (from tensorflow.python.framework.ops) is deprecated and will be removed in a future version.\n",
      "Instructions for updating:\n",
      "Colocations handled automatically by placer.\n",
      "WARNING:tensorflow:From d:\\programfiles\\python37\\lib\\site-packages\\keras\\backend\\tensorflow_backend.py:3445: calling dropout (from tensorflow.python.ops.nn_ops) with keep_prob is deprecated and will be removed in a future version.\n",
      "Instructions for updating:\n",
      "Please use `rate` instead of `keep_prob`. Rate should be set to `rate = 1 - keep_prob`.\n",
      "_________________________________________________________________\n",
      "Layer (type)                 Output Shape              Param #   \n",
      "=================================================================\n",
      "conv2d_1 (Conv2D)            (None, 28, 28, 16)        416       \n",
      "_________________________________________________________________\n",
      "max_pooling2d_1 (MaxPooling2 (None, 14, 14, 16)        0         \n",
      "_________________________________________________________________\n",
      "conv2d_2 (Conv2D)            (None, 14, 14, 36)        14436     \n",
      "_________________________________________________________________\n",
      "max_pooling2d_2 (MaxPooling2 (None, 7, 7, 36)          0         \n",
      "_________________________________________________________________\n",
      "flatten_1 (Flatten)          (None, 1764)              0         \n",
      "_________________________________________________________________\n",
      "dense_1 (Dense)              (None, 128)               225920    \n",
      "_________________________________________________________________\n",
      "dropout_1 (Dropout)          (None, 128)               0         \n",
      "_________________________________________________________________\n",
      "dense_2 (Dense)              (None, 10)                1290      \n",
      "=================================================================\n",
      "Total params: 242,062\n",
      "Trainable params: 242,062\n",
      "Non-trainable params: 0\n",
      "_________________________________________________________________\n",
      "WARNING:tensorflow:From d:\\programfiles\\python37\\lib\\site-packages\\tensorflow\\python\\ops\\math_ops.py:3066: to_int32 (from tensorflow.python.ops.math_ops) is deprecated and will be removed in a future version.\n",
      "Instructions for updating:\n",
      "Use tf.cast instead.\n",
      "Epoch 1/5\n",
      "300/300 [==============================] - 65s 216ms/step - loss: 0.4638 - acc: 0.8541 - val_loss: 0.4033 - val_acc: 0.9747\n",
      "Epoch 2/5\n",
      "300/300 [==============================] - 72s 240ms/step - loss: 0.1501 - acc: 0.9554 - val_loss: 0.2993 - val_acc: 0.9811\n",
      "Epoch 3/5\n",
      "300/300 [==============================] - 68s 228ms/step - loss: 0.1116 - acc: 0.9671 - val_loss: 0.2234 - val_acc: 0.9861\n",
      "Epoch 4/5\n",
      "300/300 [==============================] - 72s 240ms/step - loss: 0.0920 - acc: 0.9726 - val_loss: 0.2086 - val_acc: 0.9868\n",
      "Epoch 5/5\n",
      "300/300 [==============================] - 66s 220ms/step - loss: 0.0756 - acc: 0.9774 - val_loss: 0.1900 - val_acc: 0.9881\n"
     ]
    }
   ],
   "source": [
    "\n",
    "from keras.utils import *\n",
    "from keras.models import Sequential\n",
    "from keras.layers import Dense, Activation, Flatten, Dropout\n",
    "from keras.layers import Conv2D, MaxPooling2D\n",
    "from keras.optimizers import Adam\n",
    "from keras.preprocessing.image import ImageDataGenerator\n",
    "\n",
    "\n",
    "model = Sequential()\n",
    "model.add(Conv2D(16, (5,5), activation=\"relu\", padding=\"same\", data_format=\"channels_last\", input_shape=(28,28,1)))\n",
    "model.add(MaxPooling2D(pool_size=(2,2), data_format=\"channels_last\"))\n",
    "\n",
    "model.add(Conv2D(36, (5,5), activation=\"relu\", padding=\"same\", data_format=\"channels_last\"))\n",
    "model.add(MaxPooling2D(pool_size=(2,2), data_format=\"channels_last\"))\n",
    "\n",
    "model.add(Flatten())\n",
    "model.add(Dense(128, activation=\"relu\"))\n",
    "model.add(Dropout(0.5))\n",
    "model.add(Dense(10, activation=\"softmax\"))\n",
    "\n",
    "layer_utils.print_summary(model)\n",
    "\n",
    "\n",
    "# 定義訓練方式\n",
    "# loss function: 交叉熵\n",
    "# optimizer: Adam\n",
    "# 評估模型: 準確率\n",
    "model.compile(loss='categorical_crossentropy', optimizer=Adam(), metrics=['accuracy'])\n",
    "\n",
    "## 手動將 mnist 的訓練資料依 80%/20% 的比例分做訓練及驗證資料\n",
    "## from sklearn.model_selection import train_test_split\n",
    "## x_train, x_val, y_train, y_val = train_test_split(x_train, y_train, test_size=0.2, random_state=25) \n",
    "# 開始訓練\n",
    "y_train_onehot = np_utils.to_categorical(y_train)\n",
    "\n",
    "y_val_onehot = np_utils.to_categorical(y_val)\n",
    "\n",
    "\n",
    "## 訓練資料開始做一些調整轉換\n",
    "\n",
    "## rotation_range: 定義影像旋轉的角度區間，generator 會亂數來決定選轉角度\n",
    "## width_shift_range: 定義影像橫向偏移位置多寡，generator 會亂數決定偏移量\n",
    "## height_shift_range: 定義影像縱向偏移位置多寡，generator 會亂數決定偏移量\n",
    "## shear_range: 定義錯切角度\n",
    "## zoom_range: 定義放大縮小多寡\n",
    "\n",
    "#副程式放在gen裡面(改結構)\n",
    "gen = ImageDataGenerator(featurewise_center=False,\n",
    "                         samplewise_center=False,\n",
    "                         rotation_range=8, \n",
    "                         width_shift_range=0.08, \n",
    "                         shear_range=0.3,\n",
    "                         height_shift_range=0.08, \n",
    "                         zoom_range=0.08,\n",
    "                         data_format=\"channels_last\")\n",
    "\n",
    "## fit() 計算依賴於資料的變換所需要的統計資訊(均值方差等),只有使用featurewise_center，featurewise_std_normalization或zca_whitening時需要此函數。\n",
    "\n",
    "gen.fit(x_train_normalized)\n",
    "\n",
    "## 接收numpy陣列和標籤為參數,生成經過資料提升或標準化後的batch資料,並在一個無限迴圈中不斷的返回batch資料\n",
    "\n",
    "train_generator = gen.flow(x_train_normalized, y_train_onehot, batch_size=300)  ## 根據 ImageDataGenerator 產生更多影像資料\n",
    "\n",
    "test_gen = ImageDataGenerator(data_format=\"channels_last\")\n",
    "test_gen.fit(x_test_normalized)\n",
    "test_generator = test_gen.flow(x_test_normalized, y_test, batch_size=300)\n",
    "\n",
    "\n",
    "from keras.callbacks import ReduceLROnPlateau\n",
    "## 訓練時依條件降低學習率。\n",
    "## 說明：監控val_loss，在該數值等待10次，若無較好表現則調降學習率，但最低若為0.0001，則不在調降。\n",
    "## keras.callbacks.ReduceLROnPlateau(monitor='val_loss', factor=0.1, patience=10, verbose=0, mode='auto', epsilon=0.0001, cooldown=0, \n",
    "## min_lr=0.0001)\n",
    "\n",
    "## monitor：被監測的量\n",
    "## factor：每次減少學習率的因子，學習率將以lr=lr*factor的形式減少\n",
    "## patience：當patience個epoch過去而模型性能不提升時，學習率減少的動作會被觸發\n",
    "## mode：’auto’, ‘min’, ‘max’之一，在min模式下，如果檢測值不再降低，則觸發學習率減少。在max模式下，當檢測值不再上升則觸##發學習率減少。\n",
    "## epsilon：閾值，用來確定是否進入檢測值的“平原區“\n",
    "## cooldown：學習率減少後，會經過cooldown個epoch才重新進行正常操作\n",
    "## min_lr：學習率的下限\n",
    "\n",
    "#learning_rate應該隨著iteration遞減\n",
    "learning_rate_function = ReduceLROnPlateau(monitor='val_acc', \n",
    "                                            patience=3, #準確率重複3次就要減少\n",
    "                                            verbose=1, \n",
    "                                            factor=0.5, #準確率乘上factor設成下一個learning_rate\n",
    "                                            min_lr=0.00001) #降到最小值\n",
    "\n",
    "\n",
    "# 開始訓練\n",
    "train_history = model.fit_generator(train_generator, \n",
    "                                    steps_per_epoch=300, \n",
    "                                    epochs=5, \n",
    "                                    verbose=1,\n",
    "                                    validation_data=(x_val, y_val_onehot), #validation自己挑，不是電腦選\n",
    "                                    callbacks=[learning_rate_function])\n"
   ]
  },
  {
   "cell_type": "code",
   "execution_count": 3,
   "metadata": {},
   "outputs": [
    {
     "data": {
      "image/png": "[encoded data removed]",
      "text/plain": [
       "<Figure size 432x288 with 1 Axes>"
      ]
     },
     "metadata": {
      "needs_background": "light"
     },
     "output_type": "display_data"
    },
    {
     "data": {
      "image/png": "[encoded data removed]",
      "text/plain": [
       "<Figure size 432x288 with 1 Axes>"
      ]
     },
     "metadata": {
      "needs_background": "light"
     },
     "output_type": "display_data"
    },
    {
     "name": "stdout",
     "output_type": "stream",
     "text": [
      "10000/10000 [==============================] - 3s 269us/step\n",
      "\n",
      "Accuracy 0.9923%\n",
      "\n",
      "[7 2 1 ... 4 5 6]\n"
     ]
    },
    {
     "name": "stderr",
     "output_type": "stream",
     "text": [
      "d:\\programfiles\\python37\\lib\\site-packages\\ipykernel_launcher.py:57: MatplotlibDeprecationWarning: Adding an axes using the same arguments as a previous axes currently reuses the earlier instance.  In a future version, a new instance will always be created and returned.  Meanwhile, this warning can be suppressed, and the future behavior ensured, by passing a unique label to each axes instance.\n"
     ]
    },
    {
     "data": {
      "image/png": "[encoded data removed]",
      "text/plain": [
       "<Figure size 432x288 with 9 Axes>"
      ]
     },
     "metadata": {
      "needs_background": "light"
     },
     "output_type": "display_data"
    }
   ],
   "source": [
    "#train_history = model.fit(x_train_normalized, y_train_onehot, validation_split=0.2, epochs=10, batch_size=300, verbose=1)#電腦選\n",
    "\n",
    "\n",
    "show_train_history(train_history, 'acc', 'val_acc')\n",
    "\n",
    "show_train_history(train_history, 'loss', 'val_loss')\n",
    "\n",
    "y_test_onehot = np_utils.to_categorical(y_test)\n",
    "score = model.evaluate(x_test, y_test_onehot)\n",
    "print()\n",
    "print(\"Accuracy {}%\".format(score[1]))\n",
    "\n",
    "results = model.predict_classes(x_test)\n",
    "print()\n",
    "print(results)\n",
    "\n",
    "\n",
    "import itertools\n",
    "def plot_confusion_matrix(cm, classes, normalize=False, title=\"Confusion Matrix\", cmap=plt.cm.Blues):\n",
    "    plt.figure()\n",
    "    plt.imshow(cm, interpolation='nearest', cmap=cmap)\n",
    "    plt.title(title)\n",
    "    plt.colorbar()\n",
    "    tick_marks = np.arange(len(classes))\n",
    "    plt.xticks(tick_marks, classes, rotation=45)\n",
    "    plt.yticks(tick_marks, classes)\n",
    "    if normalize:\n",
    "        cm = cm.astype('float') / cm.sum(axis=1)[:, np.newaxis]\n",
    "    thresh = cm.max() / 2\n",
    "    for i, j in itertools.product(range(cm.shape[0]), range(cm.shape[1])):\n",
    "        plt.text(j, i, cm[i, j], horizontalalignment=\"center\", color=\"white\" if cm[i, j] > thresh else \"black\")\n",
    "    \n",
    "    plt.tight_layout()\n",
    "    plt.ylabel('True label')\n",
    "    plt.xlabel('Predicted label')\n",
    "\n",
    "\n",
    "\n",
    "from sklearn.metrics import confusion_matrix\n",
    "cm = confusion_matrix(y_test, results)\n",
    "\n",
    "plot_confusion_matrix(cm, range(0, 9))\n",
    "\n",
    "incorrect = np.where(y_test != results)[0]\n",
    "test_set = np.squeeze(x_test, axis=3)\n",
    "for i in range(0, 9):\n",
    "    plt.subplot(3, 3, i+1)\n",
    "    idx = incorrect[i]\n",
    "    img = test_set[idx]\n",
    "    plt.imshow(img, cmap=\"gray\")\n",
    "    plt.title(\"{}/{}\".format(y_test[idx], results[idx]))\n",
    "\n",
    "\n",
    "\n",
    "correct = np.where(y_test == results)[0]\n",
    "for i in range(0, 9):\n",
    "    plt.subplot(3, 3, i+1)\n",
    "    idx = correct[i]\n",
    "    img = test_set[idx]\n",
    "    plt.imshow(img, cmap=\"gray\")\n",
    "    plt.title(\"{}\".format(y_test[idx]))\n",
    "\n",
    "\n",
    "model.save_weights(\"cnn2.h5\")\n"
   ]
  },
  {
   "cell_type": "code",
   "execution_count": null,
   "metadata": {},
   "outputs": [],
   "source": []
  }
 ],
 "metadata": {
  "kernelspec": {
   "display_name": "Python 3",
   "language": "python",
   "name": "python3"
  },
  "language_info": {
   "codemirror_mode": {
    "name": "ipython",
    "version": 3
   },
   "file_extension": ".py",
   "mimetype": "text/x-python",
   "name": "python",
   "nbconvert_exporter": "python",
   "pygments_lexer": "ipython3",
   "version": "3.7.6"
  }
 },
 "nbformat": 4,
 "nbformat_minor": 2
}
