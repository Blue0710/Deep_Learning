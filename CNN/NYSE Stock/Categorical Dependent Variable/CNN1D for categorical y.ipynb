{
 "cells": [
  {
   "cell_type": "markdown",
   "metadata": {},
   "source": [
    "# 1. Libraries and settings"
   ]
  },
  {
   "cell_type": "code",
   "execution_count": 3,
   "metadata": {},
   "outputs": [
    {
     "name": "stderr",
     "output_type": "stream",
     "text": [
      "d:\\programfiles\\python37\\lib\\site-packages\\tensorflow\\python\\framework\\dtypes.py:526: FutureWarning: Passing (type, 1) or '1type' as a synonym of type is deprecated; in a future version of numpy, it will be understood as (type, (1,)) / '(1,)type'.\n",
      "  _np_qint8 = np.dtype([(\"qint8\", np.int8, 1)])\n",
      "d:\\programfiles\\python37\\lib\\site-packages\\tensorflow\\python\\framework\\dtypes.py:527: FutureWarning: Passing (type, 1) or '1type' as a synonym of type is deprecated; in a future version of numpy, it will be understood as (type, (1,)) / '(1,)type'.\n",
      "  _np_quint8 = np.dtype([(\"quint8\", np.uint8, 1)])\n",
      "d:\\programfiles\\python37\\lib\\site-packages\\tensorflow\\python\\framework\\dtypes.py:528: FutureWarning: Passing (type, 1) or '1type' as a synonym of type is deprecated; in a future version of numpy, it will be understood as (type, (1,)) / '(1,)type'.\n",
      "  _np_qint16 = np.dtype([(\"qint16\", np.int16, 1)])\n",
      "d:\\programfiles\\python37\\lib\\site-packages\\tensorflow\\python\\framework\\dtypes.py:529: FutureWarning: Passing (type, 1) or '1type' as a synonym of type is deprecated; in a future version of numpy, it will be understood as (type, (1,)) / '(1,)type'.\n",
      "  _np_quint16 = np.dtype([(\"quint16\", np.uint16, 1)])\n",
      "d:\\programfiles\\python37\\lib\\site-packages\\tensorflow\\python\\framework\\dtypes.py:530: FutureWarning: Passing (type, 1) or '1type' as a synonym of type is deprecated; in a future version of numpy, it will be understood as (type, (1,)) / '(1,)type'.\n",
      "  _np_qint32 = np.dtype([(\"qint32\", np.int32, 1)])\n",
      "d:\\programfiles\\python37\\lib\\site-packages\\tensorflow\\python\\framework\\dtypes.py:535: FutureWarning: Passing (type, 1) or '1type' as a synonym of type is deprecated; in a future version of numpy, it will be understood as (type, (1,)) / '(1,)type'.\n",
      "  np_resource = np.dtype([(\"resource\", np.ubyte, 1)])\n"
     ]
    },
    {
     "name": "stdout",
     "output_type": "stream",
     "text": [
      "D:\\Value of Dream\\108-1 深度學習\\Deep Learning Tool\\CNN\\NYSE Stock: ['Categorical Dependent Variable', 'Continuous Dependent Variable']\n",
      "D:\\Value of Dream\\108-1 深度學習\\Deep Learning Tool\\CNN\\NYSE Stock\\Categorical Dependent Variable: ['.ipynb_checkpoints', 'CNN1D for categorical y.ipynb', 'CNN1D for categorical y.pdf', 'CNN2D for categorical y.pdf']\n"
     ]
    },
    {
     "name": "stderr",
     "output_type": "stream",
     "text": [
      "Using TensorFlow backend.\n"
     ]
    }
   ],
   "source": [
    "import pandas as pd\n",
    "import numpy as np\n",
    "import math\n",
    "import sklearn\n",
    "import sklearn.preprocessing\n",
    "from sklearn import metrics\n",
    "from sklearn.metrics import classification_report\n",
    "import seaborn as sns\n",
    "import datetime\n",
    "import os\n",
    "import matplotlib.pyplot as plt\n",
    "import tensorflow as tf\n",
    "import matplotlib.pyplot as plt\n",
    "import keras\n",
    "from keras.models import Sequential\n",
    "from keras.layers import Dense, Dropout, Flatten, Reshape, GlobalAveragePooling1D\n",
    "from keras.layers import Conv2D, MaxPooling2D, Conv1D, MaxPooling1D\n",
    "from keras.utils import np_utils\n",
    "\n",
    "\n",
    "#display parent directory and working directory\n",
    "print(os.path.dirname(os.getcwd())+':', os.listdir(os.path.dirname(os.getcwd())));\n",
    "print(os.getcwd()+':', os.listdir(os.getcwd()));"
   ]
  },
  {
   "cell_type": "markdown",
   "metadata": {},
   "source": [
    "# 2. Analyze Data"
   ]
  },
  {
   "cell_type": "code",
   "execution_count": 4,
   "metadata": {},
   "outputs": [
    {
     "name": "stdout",
     "output_type": "stream",
     "text": [
      "<class 'pandas.core.frame.DataFrame'>\n",
      "Index: 851264 entries, 2016-01-05 to 2016-12-30\n",
      "Data columns (total 6 columns):\n",
      "symbol    851264 non-null object\n",
      "open      851264 non-null float64\n",
      "close     851264 non-null float64\n",
      "low       851264 non-null float64\n",
      "high      851264 non-null float64\n",
      "volume    851264 non-null float64\n",
      "dtypes: float64(5), object(1)\n",
      "memory usage: 45.5+ MB\n",
      "None\n",
      "           symbol        open       close         low        high     volume\n",
      "date                                                                        \n",
      "2016-01-05   WLTW  123.430000  125.839996  122.309998  126.250000  2163600.0\n",
      "2016-01-06   WLTW  125.239998  119.980003  119.940002  125.540001  2386400.0\n",
      "2016-01-07   WLTW  116.379997  114.949997  114.930000  119.739998  2489500.0\n",
      "2016-01-08   WLTW  115.480003  116.620003  113.500000  117.440002  2006300.0\n",
      "2016-01-11   WLTW  117.010002  114.970001  114.089996  117.330002  1408600.0\n",
      "(851264, 6)\n",
      "\n",
      "number of different stocks:  501\n",
      "['HCN', 'ATVI', 'AZO', 'ENDP', 'WMB', 'FLR', 'BBY', 'GPC', 'ALB', 'MAR']\n"
     ]
    }
   ],
   "source": [
    "df = pd.read_csv(\"D:/Value of Dream/108-1 深度學習/Deep Learning Tool/Data/prices-split-adjusted.csv\", index_col = 0)\n",
    "print(df.info())\n",
    "print(df.head())\n",
    "print(df.values.shape)\n",
    "# number of different stocks\n",
    "print('\\nnumber of different stocks: ', len(list(set(df.symbol))))\n",
    "print(list(set(df.symbol))[:10])"
   ]
  },
  {
   "cell_type": "code",
   "execution_count": 5,
   "metadata": {},
   "outputs": [
    {
     "data": {
      "text/html": [
       "<div>\n",
       "<style scoped>\n",
       "    .dataframe tbody tr th:only-of-type {\n",
       "        vertical-align: middle;\n",
       "    }\n",
       "\n",
       "    .dataframe tbody tr th {\n",
       "        vertical-align: top;\n",
       "    }\n",
       "\n",
       "    .dataframe thead th {\n",
       "        text-align: right;\n",
       "    }\n",
       "</style>\n",
       "<table border=\"1\" class=\"dataframe\">\n",
       "  <thead>\n",
       "    <tr style=\"text-align: right;\">\n",
       "      <th></th>\n",
       "      <th>symbol</th>\n",
       "      <th>open</th>\n",
       "      <th>close</th>\n",
       "      <th>low</th>\n",
       "      <th>high</th>\n",
       "      <th>volume</th>\n",
       "    </tr>\n",
       "    <tr>\n",
       "      <th>date</th>\n",
       "      <th></th>\n",
       "      <th></th>\n",
       "      <th></th>\n",
       "      <th></th>\n",
       "      <th></th>\n",
       "      <th></th>\n",
       "    </tr>\n",
       "  </thead>\n",
       "  <tbody>\n",
       "    <tr>\n",
       "      <th>2016-12-30</th>\n",
       "      <td>ZBH</td>\n",
       "      <td>103.309998</td>\n",
       "      <td>103.199997</td>\n",
       "      <td>102.849998</td>\n",
       "      <td>103.930000</td>\n",
       "      <td>973800.0</td>\n",
       "    </tr>\n",
       "    <tr>\n",
       "      <th>2016-12-30</th>\n",
       "      <td>ZION</td>\n",
       "      <td>43.070000</td>\n",
       "      <td>43.040001</td>\n",
       "      <td>42.689999</td>\n",
       "      <td>43.310001</td>\n",
       "      <td>1938100.0</td>\n",
       "    </tr>\n",
       "    <tr>\n",
       "      <th>2016-12-30</th>\n",
       "      <td>ZTS</td>\n",
       "      <td>53.639999</td>\n",
       "      <td>53.529999</td>\n",
       "      <td>53.270000</td>\n",
       "      <td>53.740002</td>\n",
       "      <td>1701200.0</td>\n",
       "    </tr>\n",
       "    <tr>\n",
       "      <th>2016-12-30</th>\n",
       "      <td>AIV</td>\n",
       "      <td>44.730000</td>\n",
       "      <td>45.450001</td>\n",
       "      <td>44.410000</td>\n",
       "      <td>45.590000</td>\n",
       "      <td>1380900.0</td>\n",
       "    </tr>\n",
       "    <tr>\n",
       "      <th>2016-12-30</th>\n",
       "      <td>FTV</td>\n",
       "      <td>54.200001</td>\n",
       "      <td>53.630001</td>\n",
       "      <td>53.389999</td>\n",
       "      <td>54.480000</td>\n",
       "      <td>705100.0</td>\n",
       "    </tr>\n",
       "  </tbody>\n",
       "</table>\n",
       "</div>"
      ],
      "text/plain": [
       "           symbol        open       close         low        high     volume\n",
       "date                                                                        \n",
       "2016-12-30    ZBH  103.309998  103.199997  102.849998  103.930000   973800.0\n",
       "2016-12-30   ZION   43.070000   43.040001   42.689999   43.310001  1938100.0\n",
       "2016-12-30    ZTS   53.639999   53.529999   53.270000   53.740002  1701200.0\n",
       "2016-12-30    AIV   44.730000   45.450001   44.410000   45.590000  1380900.0\n",
       "2016-12-30    FTV   54.200001   53.630001   53.389999   54.480000   705100.0"
      ]
     },
     "execution_count": 5,
     "metadata": {},
     "output_type": "execute_result"
    }
   ],
   "source": [
    "df.tail()"
   ]
  },
  {
   "cell_type": "code",
   "execution_count": 6,
   "metadata": {},
   "outputs": [
    {
     "data": {
      "text/html": [
       "<div>\n",
       "<style scoped>\n",
       "    .dataframe tbody tr th:only-of-type {\n",
       "        vertical-align: middle;\n",
       "    }\n",
       "\n",
       "    .dataframe tbody tr th {\n",
       "        vertical-align: top;\n",
       "    }\n",
       "\n",
       "    .dataframe thead th {\n",
       "        text-align: right;\n",
       "    }\n",
       "</style>\n",
       "<table border=\"1\" class=\"dataframe\">\n",
       "  <thead>\n",
       "    <tr style=\"text-align: right;\">\n",
       "      <th></th>\n",
       "      <th>open</th>\n",
       "      <th>close</th>\n",
       "      <th>low</th>\n",
       "      <th>high</th>\n",
       "      <th>volume</th>\n",
       "    </tr>\n",
       "  </thead>\n",
       "  <tbody>\n",
       "    <tr>\n",
       "      <th>count</th>\n",
       "      <td>851264.000000</td>\n",
       "      <td>851264.000000</td>\n",
       "      <td>851264.000000</td>\n",
       "      <td>851264.000000</td>\n",
       "      <td>8.512640e+05</td>\n",
       "    </tr>\n",
       "    <tr>\n",
       "      <th>mean</th>\n",
       "      <td>64.993618</td>\n",
       "      <td>65.011913</td>\n",
       "      <td>64.336541</td>\n",
       "      <td>65.639748</td>\n",
       "      <td>5.415113e+06</td>\n",
       "    </tr>\n",
       "    <tr>\n",
       "      <th>std</th>\n",
       "      <td>75.203893</td>\n",
       "      <td>75.201216</td>\n",
       "      <td>74.459518</td>\n",
       "      <td>75.906861</td>\n",
       "      <td>1.249468e+07</td>\n",
       "    </tr>\n",
       "    <tr>\n",
       "      <th>min</th>\n",
       "      <td>1.660000</td>\n",
       "      <td>1.590000</td>\n",
       "      <td>1.500000</td>\n",
       "      <td>1.810000</td>\n",
       "      <td>0.000000e+00</td>\n",
       "    </tr>\n",
       "    <tr>\n",
       "      <th>25%</th>\n",
       "      <td>31.270000</td>\n",
       "      <td>31.292776</td>\n",
       "      <td>30.940001</td>\n",
       "      <td>31.620001</td>\n",
       "      <td>1.221500e+06</td>\n",
       "    </tr>\n",
       "    <tr>\n",
       "      <th>50%</th>\n",
       "      <td>48.459999</td>\n",
       "      <td>48.480000</td>\n",
       "      <td>47.970001</td>\n",
       "      <td>48.959999</td>\n",
       "      <td>2.476250e+06</td>\n",
       "    </tr>\n",
       "    <tr>\n",
       "      <th>75%</th>\n",
       "      <td>75.120003</td>\n",
       "      <td>75.139999</td>\n",
       "      <td>74.400002</td>\n",
       "      <td>75.849998</td>\n",
       "      <td>5.222500e+06</td>\n",
       "    </tr>\n",
       "    <tr>\n",
       "      <th>max</th>\n",
       "      <td>1584.439941</td>\n",
       "      <td>1578.130005</td>\n",
       "      <td>1549.939941</td>\n",
       "      <td>1600.930054</td>\n",
       "      <td>8.596434e+08</td>\n",
       "    </tr>\n",
       "  </tbody>\n",
       "</table>\n",
       "</div>"
      ],
      "text/plain": [
       "                open          close            low           high  \\\n",
       "count  851264.000000  851264.000000  851264.000000  851264.000000   \n",
       "mean       64.993618      65.011913      64.336541      65.639748   \n",
       "std        75.203893      75.201216      74.459518      75.906861   \n",
       "min         1.660000       1.590000       1.500000       1.810000   \n",
       "25%        31.270000      31.292776      30.940001      31.620001   \n",
       "50%        48.459999      48.480000      47.970001      48.959999   \n",
       "75%        75.120003      75.139999      74.400002      75.849998   \n",
       "max      1584.439941    1578.130005    1549.939941    1600.930054   \n",
       "\n",
       "             volume  \n",
       "count  8.512640e+05  \n",
       "mean   5.415113e+06  \n",
       "std    1.249468e+07  \n",
       "min    0.000000e+00  \n",
       "25%    1.221500e+06  \n",
       "50%    2.476250e+06  \n",
       "75%    5.222500e+06  \n",
       "max    8.596434e+08  "
      ]
     },
     "execution_count": 6,
     "metadata": {},
     "output_type": "execute_result"
    }
   ],
   "source": [
    "df.describe()"
   ]
  },
  {
   "cell_type": "code",
   "execution_count": 7,
   "metadata": {},
   "outputs": [
    {
     "data": {
      "image/png": "[encoded data removed]",
      "text/plain": [
       "<Figure size 1080x360 with 2 Axes>"
      ]
     },
     "metadata": {
      "needs_background": "light"
     },
     "output_type": "display_data"
    }
   ],
   "source": [
    "plt.figure(figsize=(15, 5));\n",
    "plt.subplot(1,2,1);\n",
    "plt.plot(df[df.symbol == 'EQIX'].open.values, color='red', label='open')\n",
    "plt.plot(df[df.symbol == 'EQIX'].close.values, color='green', label='close')\n",
    "plt.plot(df[df.symbol == 'EQIX'].low.values, color='blue', label='low')\n",
    "plt.plot(df[df.symbol == 'EQIX'].high.values, color='black', label='high')\n",
    "plt.title('stock price')\n",
    "plt.xlabel('time [days]')\n",
    "plt.ylabel('price')\n",
    "plt.legend(loc='best')\n",
    "#plt.show()\n",
    "\n",
    "plt.subplot(1,2,2);\n",
    "plt.plot(df[df.symbol == 'EQIX'].volume.values, color='black', label='volume')\n",
    "plt.title('stock volume')\n",
    "plt.xlabel('time [days]')\n",
    "plt.ylabel('volume')\n",
    "plt.legend(loc='best');"
   ]
  },
  {
   "cell_type": "markdown",
   "metadata": {},
   "source": [
    "# 3. Manipulate data \n",
    "- choose a specific stock\n",
    "- drop feature: volume\n",
    "- normalize stock data\n",
    "- create train and test data sets"
   ]
  },
  {
   "cell_type": "code",
   "execution_count": 8,
   "metadata": {},
   "outputs": [],
   "source": [
    "def feature_normalize(train):\n",
    "    train_norm = train.apply(lambda x: (x - np.min(x)) / (np.max(x) - np.min(x)))  #標準化(介於0~1之間)\n",
    "    return train_norm"
   ]
  },
  {
   "cell_type": "code",
   "execution_count": 9,
   "metadata": {},
   "outputs": [],
   "source": [
    "## 很重要  切割視窗\n",
    "def create_segments_and_labels(df, time_steps, step):#, label_name):\n",
    "    \"\"\"\n",
    "    This function receives a dataframe and returns the reshaped segments\n",
    "    of x,y,z acceleration as well as the corresponding labels\n",
    "    Args:\n",
    "        df: Dataframe in the expected format\n",
    "        time_steps: Integer value of the length of a segment that is created\n",
    "    Returns:\n",
    "        reshaped_segments\n",
    "        labels:\n",
    "    \"\"\"\n",
    "\n",
    "#feature 有四個\n",
    "    N_FEATURES = 4\n",
    "#選擇測試切出20%\n",
    "    test_set_size_percentage = 20\n",
    "    segments = []\n",
    "    labels = []\n",
    "    \n",
    "#     data_raw = df.as_matrix()\n",
    "#創造時間窗，將所有選擇特徵一起切割視窗\n",
    "    for i in range(0, len(df) - time_steps, step):#\n",
    "        segments.append(df.values[i: i + time_steps])\n",
    "#以當期四種特徵預測下一期收盤價\n",
    "        rate = (df.open.values[i + time_steps]-df.open.values[i + time_steps-1])/df.open.values[i + time_steps-1]\n",
    "        temp = rate\n",
    "        if temp < 0:\n",
    "            if temp <= -0.2:\n",
    "                label =0\n",
    "            elif temp <= -0.1:\n",
    "                label =1\n",
    "            elif temp < 0:\n",
    "                label =2\n",
    "        else:\n",
    "            if temp == 0:\n",
    "                label =3\n",
    "            elif temp <= 0.1:\n",
    "                label =4\n",
    "            elif temp <= 0.2:\n",
    "                label =5                \n",
    "            elif temp >0.2:\n",
    "                label =6              \n",
    "        labels.append([label])\n",
    "    test_set_size = np.round(test_set_size_percentage/100*np.asarray(segments).shape[0])\n",
    "    train_set_size = int(np.asarray(segments).shape[0] - (test_set_size));  \n",
    "    print(train_set_size)\n",
    "#     segments = np.array(segments);\n",
    "    reshaped_segments_train = np.asarray(segments[:train_set_size], dtype= np.float32).reshape(-1, time_steps, N_FEATURES)\n",
    "    reshaped_segments_test = np.asarray(segments[train_set_size:], dtype= np.float32).reshape(-1, time_steps, N_FEATURES)\n",
    "    labels_train = np.asarray(labels[:train_set_size])\n",
    "    labels_test = np.asarray(labels[train_set_size:])\n",
    "#以訓練資料占比分割訓練測試集，並以視窗最後一筆資料當作預測值\n",
    "#     x_train = segments[:train_set_size,:,:]#(1394, 19, 4)\n",
    "#     y_train = lables[:train_set_size,-1,:]#(1394, 4)\n",
    "#     x_valid = data[train_set_size:train_set_size+valid_set_size,:-1,:]\n",
    "#     y_valid = data[train_set_size:train_set_size+valid_set_size,-1,:]\n",
    "#     x_test = segments[train_set_size:,:-1,:]\n",
    "#     y_test = segments[train_set_size:,-1,:]    \n",
    "    return reshaped_segments_train, labels_train, reshaped_segments_test,labels_test\n",
    "#     return [x_train, y_train, x_valid, y_valid, x_test, y_test]\n"
   ]
  },
  {
   "cell_type": "code",
   "execution_count": 10,
   "metadata": {},
   "outputs": [
    {
     "name": "stdout",
     "output_type": "stream",
     "text": [
      "df_stock.columns.values =  ['open', 'close', 'low', 'high']\n",
      "279\n",
      "x_train.shape =  (279, 20, 4)\n",
      "y_train.shape =  (279, 1)\n",
      "x_test.shape =  (70, 20, 4)\n",
      "y_test.shape =  (70, 1)\n",
      "y_train_oneshot:(279, 7)\n",
      "y_test_oneshot:(70, 7)\n"
     ]
    }
   ],
   "source": [
    "# choose one stock & drop volume\n",
    "df_stock = df[df.symbol == 'EQIX'].copy()\n",
    "df_stock.drop(['symbol'],1,inplace=True)\n",
    "df_stock.drop(['volume'],1,inplace=True)\n",
    "\n",
    "cols = list(df_stock.columns.values)\n",
    "print('df_stock.columns.values = ', cols)\n",
    "\n",
    "# normalize stock\n",
    "df_stock_norm = df_stock.copy()\n",
    "df_stock_norm = feature_normalize(df_stock_norm)\n",
    "\n",
    "# create train, test data\n",
    "time_steps = 20 # choose sequence length\n",
    "step = 5\n",
    "x_train, y_train, x_test, y_test = create_segments_and_labels(df_stock_norm, time_steps, step)\n",
    "print('x_train.shape = ',x_train.shape)\n",
    "print('y_train.shape = ', y_train.shape)\n",
    "print('x_test.shape = ',x_test.shape)\n",
    "print('y_test.shape = ', y_test.shape)\n",
    "num_classes = 7\n",
    "y_train_oneshot = np_utils.to_categorical(y_train, num_classes)\n",
    "print(f\"y_train_oneshot:{y_train_oneshot.shape}\")\n",
    "y_test_oneshot = np_utils.to_categorical(y_test, num_classes)\n",
    "print(f\"y_test_oneshot:{y_test_oneshot.shape}\")"
   ]
  },
  {
   "cell_type": "code",
   "execution_count": 11,
   "metadata": {},
   "outputs": [
    {
     "data": {
      "image/png": "[encoded data removed]",
      "text/plain": [
       "<Figure size 432x288 with 1 Axes>"
      ]
     },
     "metadata": {
      "needs_background": "light"
     },
     "output_type": "display_data"
    }
   ],
   "source": [
    "plt.plot(df_stock_norm.open.values, color='red', label='open')\n",
    "plt.plot(df_stock_norm.close.values, color='green', label='close')\n",
    "plt.plot(df_stock_norm.low.values, color='blue', label='low')\n",
    "plt.plot(df_stock_norm.high.values, color='black', label='high')\n",
    "#plt.plot(df_stock_norm.volume.values, color='gray', label='volume')\n",
    "plt.title('stock')\n",
    "plt.xlabel('time [days]')\n",
    "plt.ylabel('normalized price/volume')\n",
    "plt.legend(loc='best')\n",
    "plt.show()"
   ]
  },
  {
   "cell_type": "code",
   "execution_count": 12,
   "metadata": {},
   "outputs": [
    {
     "name": "stdout",
     "output_type": "stream",
     "text": [
      "x_train_reshape.shape:(279, 80)\n",
      "x_test_reshape.shape:(70, 80)\n"
     ]
    }
   ],
   "source": [
    "num_time_periods, num_sensors = x_train.shape[1], x_train.shape[2]\n",
    "input_shape = (num_time_periods*num_sensors)   ## 80*3  每一筆資料 80(時間窗) 3個變數( xyz) \n",
    "x_train_reshape = x_train.reshape(x_train.shape[0], input_shape).astype('float32')\n",
    "print(f\"x_train_reshape.shape:{x_train_reshape.shape}\")\n",
    "x_test_reshape = x_test.reshape(x_test.shape[0], input_shape).astype('float32')\n",
    "print(f\"x_test_reshape.shape:{x_test_reshape.shape}\")"
   ]
  },
  {
   "cell_type": "markdown",
   "metadata": {},
   "source": [
    "# CNN 1D"
   ]
  },
  {
   "cell_type": "code",
   "execution_count": 13,
   "metadata": {},
   "outputs": [
    {
     "name": "stdout",
     "output_type": "stream",
     "text": [
      "WARNING:tensorflow:From d:\\programfiles\\python37\\lib\\site-packages\\tensorflow\\python\\framework\\op_def_library.py:263: colocate_with (from tensorflow.python.framework.ops) is deprecated and will be removed in a future version.\n",
      "Instructions for updating:\n",
      "Colocations handled automatically by placer.\n",
      "WARNING:tensorflow:From d:\\programfiles\\python37\\lib\\site-packages\\keras\\backend\\tensorflow_backend.py:3445: calling dropout (from tensorflow.python.ops.nn_ops) with keep_prob is deprecated and will be removed in a future version.\n",
      "Instructions for updating:\n",
      "Please use `rate` instead of `keep_prob`. Rate should be set to `rate = 1 - keep_prob`.\n",
      "_________________________________________________________________\n",
      "Layer (type)                 Output Shape              Param #   \n",
      "=================================================================\n",
      "reshape_1 (Reshape)          (None, 20, 4)             0         \n",
      "_________________________________________________________________\n",
      "conv1d_1 (Conv1D)            (None, 19, 100)           900       \n",
      "_________________________________________________________________\n",
      "conv1d_2 (Conv1D)            (None, 18, 100)           20100     \n",
      "_________________________________________________________________\n",
      "max_pooling1d_1 (MaxPooling1 (None, 6, 100)            0         \n",
      "_________________________________________________________________\n",
      "conv1d_3 (Conv1D)            (None, 5, 160)            32160     \n",
      "_________________________________________________________________\n",
      "conv1d_4 (Conv1D)            (None, 4, 160)            51360     \n",
      "_________________________________________________________________\n",
      "global_average_pooling1d_1 ( (None, 160)               0         \n",
      "_________________________________________________________________\n",
      "dropout_1 (Dropout)          (None, 160)               0         \n",
      "_________________________________________________________________\n",
      "dense_1 (Dense)              (None, 7)                 1127      \n",
      "=================================================================\n",
      "Total params: 105,647\n",
      "Trainable params: 105,647\n",
      "Non-trainable params: 0\n",
      "_________________________________________________________________\n",
      "None\n"
     ]
    }
   ],
   "source": [
    "model_cnn1d = Sequential()\n",
    "num_time_periods*num_sensors\n",
    "model_cnn1d.add(Reshape((num_time_periods, num_sensors), input_shape=(input_shape,))) \n",
    "model_cnn1d.add(Conv1D(100, 2, activation='relu', input_shape=(num_time_periods, num_sensors)))\n",
    "model_cnn1d.add(Conv1D(100, 2, activation='relu'))\n",
    "model_cnn1d.add(MaxPooling1D(3))\n",
    "model_cnn1d.add(Conv1D(160, 2, activation='relu'))\n",
    "model_cnn1d.add(Conv1D(160, 2, activation='relu'))\n",
    "model_cnn1d.add(GlobalAveragePooling1D())\n",
    "model_cnn1d.add(Dropout(0.5))\n",
    "model_cnn1d.add(Dense(num_classes, activation='softmax'))\n",
    "print(model_cnn1d.summary())"
   ]
  },
  {
   "cell_type": "code",
   "execution_count": 14,
   "metadata": {
    "scrolled": false
   },
   "outputs": [
    {
     "name": "stdout",
     "output_type": "stream",
     "text": [
      "WARNING:tensorflow:From d:\\programfiles\\python37\\lib\\site-packages\\tensorflow\\python\\ops\\math_ops.py:3066: to_int32 (from tensorflow.python.ops.math_ops) is deprecated and will be removed in a future version.\n",
      "Instructions for updating:\n",
      "Use tf.cast instead.\n",
      "Train on 223 samples, validate on 56 samples\n",
      "Epoch 1/50\n",
      "223/223 [==============================] - 1s 3ms/step - loss: 1.9468 - acc: 0.0852 - val_loss: 1.8751 - val_acc: 0.4643\n",
      "Epoch 2/50\n",
      "223/223 [==============================] - 0s 116us/step - loss: 1.9129 - acc: 0.4170 - val_loss: 1.8097 - val_acc: 0.4643\n",
      "Epoch 3/50\n",
      "223/223 [==============================] - 0s 125us/step - loss: 1.8802 - acc: 0.4753 - val_loss: 1.7371 - val_acc: 0.4643\n",
      "Epoch 4/50\n",
      "223/223 [==============================] - 0s 107us/step - loss: 1.8459 - acc: 0.4529 - val_loss: 1.6559 - val_acc: 0.4643\n",
      "\n",
      "Epoch 00004: ReduceLROnPlateau reducing learning rate to 0.0005000000237487257.\n",
      "Epoch 5/50\n",
      "223/223 [==============================] - 0s 98us/step - loss: 1.7966 - acc: 0.4664 - val_loss: 1.6121 - val_acc: 0.4643\n",
      "Epoch 6/50\n",
      "223/223 [==============================] - 0s 98us/step - loss: 1.7866 - acc: 0.4305 - val_loss: 1.5651 - val_acc: 0.4643\n",
      "Epoch 7/50\n",
      "223/223 [==============================] - 0s 112us/step - loss: 1.7569 - acc: 0.4798 - val_loss: 1.5137 - val_acc: 0.4643\n",
      "\n",
      "Epoch 00007: ReduceLROnPlateau reducing learning rate to 0.0002500000118743628.\n",
      "Epoch 8/50\n",
      "223/223 [==============================] - 0s 112us/step - loss: 1.7292 - acc: 0.4305 - val_loss: 1.4864 - val_acc: 0.4643\n",
      "Epoch 9/50\n",
      "223/223 [==============================] - 0s 103us/step - loss: 1.7210 - acc: 0.4484 - val_loss: 1.4578 - val_acc: 0.4643\n",
      "Epoch 10/50\n",
      "223/223 [==============================] - 0s 112us/step - loss: 1.6960 - acc: 0.4484 - val_loss: 1.4279 - val_acc: 0.4643\n",
      "\n",
      "Epoch 00010: ReduceLROnPlateau reducing learning rate to 0.0001250000059371814.\n",
      "Epoch 11/50\n",
      "223/223 [==============================] - 0s 139us/step - loss: 1.6832 - acc: 0.4888 - val_loss: 1.4126 - val_acc: 0.4643\n",
      "Epoch 12/50\n",
      "223/223 [==============================] - 0s 103us/step - loss: 1.6774 - acc: 0.4305 - val_loss: 1.3969 - val_acc: 0.4643\n",
      "Epoch 13/50\n",
      "223/223 [==============================] - 0s 121us/step - loss: 1.6755 - acc: 0.4529 - val_loss: 1.3809 - val_acc: 0.4643\n",
      "\n",
      "Epoch 00013: ReduceLROnPlateau reducing learning rate to 6.25000029685907e-05.\n",
      "Epoch 14/50\n",
      "223/223 [==============================] - 0s 116us/step - loss: 1.6528 - acc: 0.5022 - val_loss: 1.3728 - val_acc: 0.4643\n",
      "Epoch 15/50\n",
      "223/223 [==============================] - 0s 121us/step - loss: 1.6529 - acc: 0.4709 - val_loss: 1.3647 - val_acc: 0.4643\n",
      "Epoch 16/50\n",
      "223/223 [==============================] - 0s 116us/step - loss: 1.6582 - acc: 0.4619 - val_loss: 1.3565 - val_acc: 0.4643\n",
      "\n",
      "Epoch 00016: ReduceLROnPlateau reducing learning rate to 3.125000148429535e-05.\n",
      "Epoch 17/50\n",
      "223/223 [==============================] - 0s 116us/step - loss: 1.6480 - acc: 0.4170 - val_loss: 1.3523 - val_acc: 0.4643\n",
      "Epoch 18/50\n",
      "223/223 [==============================] - 0s 116us/step - loss: 1.6401 - acc: 0.4126 - val_loss: 1.3482 - val_acc: 0.4643\n",
      "Epoch 19/50\n",
      "223/223 [==============================] - 0s 125us/step - loss: 1.6425 - acc: 0.4574 - val_loss: 1.3439 - val_acc: 0.4643\n",
      "\n",
      "Epoch 00019: ReduceLROnPlateau reducing learning rate to 1.5625000742147677e-05.\n",
      "Epoch 20/50\n",
      "223/223 [==============================] - 0s 112us/step - loss: 1.6433 - acc: 0.4260 - val_loss: 1.3418 - val_acc: 0.4643\n",
      "Epoch 21/50\n",
      "223/223 [==============================] - 0s 103us/step - loss: 1.6348 - acc: 0.4350 - val_loss: 1.3396 - val_acc: 0.4643\n",
      "Epoch 22/50\n",
      "223/223 [==============================] - 0s 152us/step - loss: 1.6316 - acc: 0.4395 - val_loss: 1.3374 - val_acc: 0.4643\n",
      "\n",
      "Epoch 00022: ReduceLROnPlateau reducing learning rate to 1e-05.\n",
      "Epoch 23/50\n",
      "223/223 [==============================] - 0s 125us/step - loss: 1.6399 - acc: 0.4574 - val_loss: 1.3361 - val_acc: 0.4643\n",
      "Epoch 24/50\n",
      "223/223 [==============================] - 0s 121us/step - loss: 1.6529 - acc: 0.4439 - val_loss: 1.3347 - val_acc: 0.4643\n",
      "Epoch 25/50\n",
      "223/223 [==============================] - 0s 121us/step - loss: 1.6293 - acc: 0.4843 - val_loss: 1.3333 - val_acc: 0.4643\n",
      "Epoch 26/50\n",
      "223/223 [==============================] - 0s 116us/step - loss: 1.6419 - acc: 0.4260 - val_loss: 1.3319 - val_acc: 0.4643\n",
      "Epoch 27/50\n",
      "223/223 [==============================] - 0s 107us/step - loss: 1.6326 - acc: 0.4529 - val_loss: 1.3305 - val_acc: 0.4643\n",
      "Epoch 28/50\n",
      "223/223 [==============================] - 0s 112us/step - loss: 1.6355 - acc: 0.4260 - val_loss: 1.3291 - val_acc: 0.4643\n",
      "Epoch 29/50\n",
      "223/223 [==============================] - 0s 112us/step - loss: 1.6343 - acc: 0.4529 - val_loss: 1.3277 - val_acc: 0.4643\n",
      "Epoch 30/50\n",
      "223/223 [==============================] - 0s 116us/step - loss: 1.6348 - acc: 0.4215 - val_loss: 1.3263 - val_acc: 0.4643\n",
      "Epoch 31/50\n",
      "223/223 [==============================] - 0s 107us/step - loss: 1.6301 - acc: 0.4439 - val_loss: 1.3249 - val_acc: 0.4643\n",
      "Epoch 32/50\n",
      "223/223 [==============================] - 0s 125us/step - loss: 1.6470 - acc: 0.3767 - val_loss: 1.3235 - val_acc: 0.4643\n",
      "Epoch 33/50\n",
      "223/223 [==============================] - 0s 107us/step - loss: 1.6266 - acc: 0.4350 - val_loss: 1.3221 - val_acc: 0.4643\n",
      "Epoch 34/50\n",
      "223/223 [==============================] - 0s 125us/step - loss: 1.6342 - acc: 0.4260 - val_loss: 1.3207 - val_acc: 0.4643\n",
      "Epoch 35/50\n",
      "223/223 [==============================] - 0s 121us/step - loss: 1.6319 - acc: 0.4260 - val_loss: 1.3193 - val_acc: 0.4643\n",
      "Epoch 36/50\n",
      "223/223 [==============================] - 0s 112us/step - loss: 1.6323 - acc: 0.4619 - val_loss: 1.3179 - val_acc: 0.4643\n",
      "Epoch 37/50\n",
      "223/223 [==============================] - 0s 98us/step - loss: 1.6266 - acc: 0.4574 - val_loss: 1.3165 - val_acc: 0.4643\n",
      "Epoch 38/50\n",
      "223/223 [==============================] - 0s 121us/step - loss: 1.6193 - acc: 0.4574 - val_loss: 1.3151 - val_acc: 0.4643\n",
      "Epoch 39/50\n",
      "223/223 [==============================] - 0s 130us/step - loss: 1.6192 - acc: 0.4484 - val_loss: 1.3137 - val_acc: 0.4643\n",
      "Epoch 40/50\n",
      "223/223 [==============================] - 0s 107us/step - loss: 1.6204 - acc: 0.4395 - val_loss: 1.3123 - val_acc: 0.4643\n",
      "Epoch 41/50\n",
      "223/223 [==============================] - 0s 130us/step - loss: 1.6331 - acc: 0.3901 - val_loss: 1.3109 - val_acc: 0.4643\n",
      "Epoch 42/50\n",
      "223/223 [==============================] - 0s 112us/step - loss: 1.6115 - acc: 0.4933 - val_loss: 1.3094 - val_acc: 0.4643\n",
      "Epoch 43/50\n",
      "223/223 [==============================] - 0s 119us/step - loss: 1.6225 - acc: 0.4305 - val_loss: 1.3080 - val_acc: 0.4643\n",
      "Epoch 44/50\n",
      "223/223 [==============================] - 0s 139us/step - loss: 1.6177 - acc: 0.4439 - val_loss: 1.3066 - val_acc: 0.4643\n",
      "Epoch 45/50\n",
      "223/223 [==============================] - 0s 112us/step - loss: 1.6145 - acc: 0.4484 - val_loss: 1.3052 - val_acc: 0.4643\n",
      "Epoch 46/50\n",
      "223/223 [==============================] - 0s 112us/step - loss: 1.6126 - acc: 0.4260 - val_loss: 1.3038 - val_acc: 0.4643\n",
      "Epoch 47/50\n",
      "223/223 [==============================] - 0s 125us/step - loss: 1.6135 - acc: 0.4664 - val_loss: 1.3024 - val_acc: 0.4643\n",
      "Epoch 48/50\n",
      "223/223 [==============================] - 0s 125us/step - loss: 1.6110 - acc: 0.4529 - val_loss: 1.3010 - val_acc: 0.4643\n",
      "Epoch 49/50\n",
      "223/223 [==============================] - 0s 116us/step - loss: 1.6170 - acc: 0.4439 - val_loss: 1.2996 - val_acc: 0.4643\n",
      "Epoch 50/50\n",
      "223/223 [==============================] - 0s 125us/step - loss: 1.6146 - acc: 0.4529 - val_loss: 1.2981 - val_acc: 0.4643\n",
      "\n",
      "--- Learning curve of model training ---\n",
      "\n"
     ]
    },
    {
     "data": {
      "image/png": "[encoded data removed]",
      "text/plain": [
       "<Figure size 432x288 with 1 Axes>"
      ]
     },
     "metadata": {
      "needs_background": "light"
     },
     "output_type": "display_data"
    }
   ],
   "source": [
    "BATCH_SIZE = 400\n",
    "EPOCHS = 50\n",
    "\n",
    "from keras.callbacks import ReduceLROnPlateau\n",
    "learning_rate_function = ReduceLROnPlateau(monitor='val_acc', \n",
    "                                            patience=3, #準確率重複3次就要減少\n",
    "                                            verbose=1, \n",
    "                                            factor=0.5, #準確率乘上factor設成下一個learning_rate\n",
    "                                            min_lr=0.00001) #降\n",
    "\n",
    "# training stops early\n",
    "callbacks_list = [\n",
    "    keras.callbacks.ModelCheckpoint(\n",
    "        filepath='best_model.{epoch:02d}-{val_loss:.2f}.h5',\n",
    "        monitor='val_loss', save_best_only=True),\n",
    "    keras.callbacks.EarlyStopping(monitor='acc', patience=1)\n",
    "]\n",
    "#...\n",
    "model_cnn1d.compile(loss='categorical_crossentropy',\n",
    "                optimizer='adam', metrics=['accuracy'])\n",
    "\n",
    "history = model_cnn1d.fit(x_train_reshape, y_train_oneshot, batch_size=BATCH_SIZE, epochs=EPOCHS, callbacks=[learning_rate_function], validation_split=0.2, verbose=1)\n",
    "\n",
    "# %%\n",
    "\n",
    "print(\"\\n--- Learning curve of model training ---\\n\")\n",
    "\n",
    "# summarize history for accuracy and loss\n",
    "plt.figure(figsize=(6, 4))\n",
    "plt.plot(history.history['acc'], \"g--\", label=\"Accuracy of training data\")\n",
    "plt.plot(history.history['val_acc'], \"g\", label=\"Accuracy of validation data\")\n",
    "plt.plot(history.history['loss'], \"r--\", label=\"Loss of training data\")\n",
    "plt.plot(history.history['val_loss'], \"r\", label=\"Loss of validation data\")\n",
    "plt.title('Model Accuracy and Loss')\n",
    "plt.ylabel('Accuracy and Loss')\n",
    "plt.xlabel('Training Epoch')\n",
    "plt.ylim(0)\n",
    "plt.legend()\n",
    "plt.show()"
   ]
  },
  {
   "cell_type": "code",
   "execution_count": 15,
   "metadata": {},
   "outputs": [
    {
     "name": "stdout",
     "output_type": "stream",
     "text": [
      "70/70 [==============================] - 0s 85us/step\n",
      "\n",
      "Accuracy on test data: 0.40\n",
      "\n",
      "Loss on test data: 1.09\n"
     ]
    }
   ],
   "source": [
    "score = model_cnn1d.evaluate(x_test_reshape, y_test_oneshot, verbose=1)\n",
    "\n",
    "print(\"\\nAccuracy on test data: %0.2f\" % score[1])\n",
    "print(\"\\nLoss on test data: %0.2f\" % score[0])"
   ]
  }
 ],
 "metadata": {
  "kernelspec": {
   "display_name": "Python 3",
   "language": "python",
   "name": "python3"
  },
  "language_info": {
   "codemirror_mode": {
    "name": "ipython",
    "version": 3
   },
   "file_extension": ".py",
   "mimetype": "text/x-python",
   "name": "python",
   "nbconvert_exporter": "python",
   "pygments_lexer": "ipython3",
   "version": "3.7.6"
  }
 },
 "nbformat": 4,
 "nbformat_minor": 2
}
